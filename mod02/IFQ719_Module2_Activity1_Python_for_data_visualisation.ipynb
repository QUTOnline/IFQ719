{
 "cells": [
  {
   "cell_type": "markdown",
   "id": "61861074",
   "metadata": {
    "tags": []
   },
   "source": [
    "# Module 2, Section 1: Python for Data Visualisation"
   ]
  },
  {
   "cell_type": "markdown",
   "id": "5ec86d8e-4db2-40de-bc3e-c2071338d48d",
   "metadata": {
    "tags": []
   },
   "source": [
    "## Importing Libraries"
   ]
  },
  {
   "cell_type": "markdown",
   "id": "41ca749a-b4aa-4599-9b32-94c9ff39e65c",
   "metadata": {},
   "source": [
    "First, let's import Matplotlib and any other libraries we will need this week."
   ]
  },
  {
   "cell_type": "code",
   "execution_count": 10,
   "id": "ba6e44ed",
   "metadata": {},
   "outputs": [],
   "source": [
    "# import required libraries into your jupyter notebook:\n",
    "import matplotlib as mpl\n",
    "import matplotlib.pyplot as plt\n",
    "import seaborn as sns\n",
    "import pandas as pd\n",
    "import numpy as np\n",
    "import datetime as dt\n",
    "from matplotlib.ticker import AutoMinorLocator, MultipleLocator, FuncFormatter"
   ]
  },
  {
   "cell_type": "markdown",
   "id": "3cd0b833",
   "metadata": {},
   "source": [
    "## The components of a Matplotlib figure"
   ]
  },
  {
   "cell_type": "markdown",
   "id": "e903f22e",
   "metadata": {},
   "source": [
    "Before we start creating visualisations, we need to know how Matplotlib works. Matplotlib builds figures as an object-oriented hierarchy. What does this mean? Well, if we imagine our visualisation as a car, objects are the millions of individual components (wheels, windows, battery, paint colour etc) that when combined in a certain hierarchy form the car. In object-oriented programming, code objects take data (what we want to visualise) and procedures (plotting commands) to give an output (the visualisation). Matplotlib underlies many other plotting libraries (e.g., Seaborn, Pyplot) that automatically create a lot of the objects you need to create a visualisation. Going back to the car analogy, visualising with these libraries is a bit like buying a car and just customising the colour or engine size, rather than building the car from scratch yourself. Here, we're going to first briefly look at how Matplotlib creates visualisations from scratch. Then, when we use different other libraries that are built of Matplotlib, you're going to feel a bit confident that you know what's happening 'under the hood', and be more comfortable making changes as you need to create the visualisations you want, or searching for help when things don't work.\n",
    "\n",
    "The official [Matplotlib website](https://matplotlib.org/) is the best resource for understanding how Matplotlib works, and how to use it to generate the visualisations you want, we'll be using this site for resources throughout this course as needed."
   ]
  },
  {
   "cell_type": "markdown",
   "id": "078d93d9",
   "metadata": {},
   "source": [
    "### Figure - your canvas\n",
    "A Figure object is the outermost container for a Matplotlib visualisation. The figure object is the container that holds one or more actual plots. In other words, the figure object is the canvas on which you'll create your visualisation. Let's make one."
   ]
  },
  {
   "cell_type": "code",
   "execution_count": 11,
   "id": "b781b37b",
   "metadata": {},
   "outputs": [
    {
     "data": {
      "text/plain": [
       "<Figure size 432x288 with 0 Axes>"
      ]
     },
     "metadata": {},
     "output_type": "display_data"
    }
   ],
   "source": [
    "fig = plt.figure()  # an empty figure with no Axes"
   ]
  },
  {
   "cell_type": "markdown",
   "id": "b9d5c1fe",
   "metadata": {},
   "source": [
    "### Axes - your plot/s\n",
    "No visualisation yet. That's because we need to specify the region on the figure where we're going to visualise. These regions are called axes objects. This might seem redundant - isn't the figure itself the region we're visualising in? - but it's a necessary generalisation if we want to plot multiple visualisations (subplots) on the same figure, or annotate outside the axis of our plot. More broadly, the figure object is the container in which all the nested 'Artists' (axes, legends, colourbars, subplots etc) are kept together.\n",
    "\n",
    "NOTE! One source of confusion here is the name 'Axes object': an Axes actually translates into what we think of as an individual plot or graph, rather than the plural of axis. Our x and y-axis (and z-axis in the case of 3D visualisations) are the Artist objects that give the boundaries of our plot, and they're further down the object hierarchy. \n",
    "\n",
    "So, let's make a figure, with a single axes:"
   ]
  },
  {
   "cell_type": "code",
   "execution_count": 12,
   "id": "00a7088f",
   "metadata": {},
   "outputs": [
    {
     "data": {
      "image/png": "[encoded data removed]",
      "text/plain": [
       "<Figure size 432x288 with 1 Axes>"
      ]
     },
     "metadata": {
      "needs_background": "light"
     },
     "output_type": "display_data"
    }
   ],
   "source": [
    "fig, ax = plt.subplots()  # a figure with a single Axes"
   ]
  },
  {
   "cell_type": "markdown",
   "id": "74ff554a",
   "metadata": {},
   "source": [
    "Note that since we didn't pass any arguments to plt.subplots(), it creates a figure with a single axes. This is the default operation. But if we wanted a figure with multiple axes, we can specify:"
   ]
  },
  {
   "cell_type": "code",
   "execution_count": 13,
   "id": "24ed1ba0",
   "metadata": {},
   "outputs": [
    {
     "data": {
      "image/png": "[encoded data removed]",
      "text/plain": [
       "<Figure size 432x288 with 4 Axes>"
      ]
     },
     "metadata": {
      "needs_background": "light"
     },
     "output_type": "display_data"
    }
   ],
   "source": [
    "fig, ax = plt.subplots(2, 2)  # a figure with a 2x2 grid of Axes"
   ]
  },
  {
   "cell_type": "markdown",
   "id": "c3f3861e",
   "metadata": {},
   "source": [
    "**Exercise:** Create a figure object containing a 3x4 grid of Axes objects."
   ]
  },
  {
   "cell_type": "markdown",
   "id": "1f1639a9",
   "metadata": {},
   "source": [
    "## Our first visualisation"
   ]
  },
  {
   "cell_type": "markdown",
   "id": "a4913c28-ea49-49a2-abd6-d601d4511a1e",
   "metadata": {},
   "source": [
    "Let's make our first visualisation. We'll start by loading a dataset containing the some information about the physiology and exercise of 30 \n",
    "individuals."
   ]
  },
  {
   "cell_type": "code",
   "execution_count": 14,
   "id": "74229636-eb07-4ce2-8d08-8c36d4401ebf",
   "metadata": {},
   "outputs": [],
   "source": [
    "df = pd.read_csv(\"exercise.csv\")"
   ]
  },
  {
   "cell_type": "markdown",
   "id": "67aacff2",
   "metadata": {
    "tags": []
   },
   "source": [
    "The **pd.read_csv** command returns a Pandas dataframe, which we can confirm with:"
   ]
  },
  {
   "cell_type": "code",
   "execution_count": 15,
   "id": "0b02196b-7102-4fed-8152-1d9be4f8ae0e",
   "metadata": {},
   "outputs": [
    {
     "data": {
      "text/plain": [
       "pandas.core.frame.DataFrame"
      ]
     },
     "execution_count": 15,
     "metadata": {},
     "output_type": "execute_result"
    }
   ],
   "source": [
    "type(df)"
   ]
  },
  {
   "cell_type": "markdown",
   "id": "e1842f9d-5986-49b5-a155-e9b1ca725c30",
   "metadata": {
    "tags": []
   },
   "source": [
    "Before we plot, let's have a quick look at the dataset. There are 90 rows with five columns with information.\n",
    "We can see that some rows have numbers, others have words (string objects). But note that the first column is just an index of the rows,\n",
    "so we can ignore it. "
   ]
  },
  {
   "cell_type": "code",
   "execution_count": 16,
   "id": "daa0dd80-c8b0-48b2-abbb-4120f6f40431",
   "metadata": {},
   "outputs": [
    {
     "data": {
      "text/html": [
       "<div>\n",
       "<style scoped>\n",
       "    .dataframe tbody tr th:only-of-type {\n",
       "        vertical-align: middle;\n",
       "    }\n",
       "\n",
       "    .dataframe tbody tr th {\n",
       "        vertical-align: top;\n",
       "    }\n",
       "\n",
       "    .dataframe thead th {\n",
       "        text-align: right;\n",
       "    }\n",
       "</style>\n",
       "<table border=\"1\" class=\"dataframe\">\n",
       "  <thead>\n",
       "    <tr style=\"text-align: right;\">\n",
       "      <th></th>\n",
       "      <th>Unnamed: 0</th>\n",
       "      <th>id</th>\n",
       "      <th>diet</th>\n",
       "      <th>pulse</th>\n",
       "      <th>time</th>\n",
       "      <th>kind</th>\n",
       "    </tr>\n",
       "  </thead>\n",
       "  <tbody>\n",
       "    <tr>\n",
       "      <th>0</th>\n",
       "      <td>0</td>\n",
       "      <td>1</td>\n",
       "      <td>low fat</td>\n",
       "      <td>85</td>\n",
       "      <td>1 min</td>\n",
       "      <td>rest</td>\n",
       "    </tr>\n",
       "    <tr>\n",
       "      <th>1</th>\n",
       "      <td>1</td>\n",
       "      <td>1</td>\n",
       "      <td>low fat</td>\n",
       "      <td>85</td>\n",
       "      <td>15 min</td>\n",
       "      <td>rest</td>\n",
       "    </tr>\n",
       "    <tr>\n",
       "      <th>2</th>\n",
       "      <td>2</td>\n",
       "      <td>1</td>\n",
       "      <td>low fat</td>\n",
       "      <td>88</td>\n",
       "      <td>30 min</td>\n",
       "      <td>rest</td>\n",
       "    </tr>\n",
       "    <tr>\n",
       "      <th>3</th>\n",
       "      <td>3</td>\n",
       "      <td>2</td>\n",
       "      <td>low fat</td>\n",
       "      <td>90</td>\n",
       "      <td>1 min</td>\n",
       "      <td>rest</td>\n",
       "    </tr>\n",
       "    <tr>\n",
       "      <th>4</th>\n",
       "      <td>4</td>\n",
       "      <td>2</td>\n",
       "      <td>low fat</td>\n",
       "      <td>92</td>\n",
       "      <td>15 min</td>\n",
       "      <td>rest</td>\n",
       "    </tr>\n",
       "    <tr>\n",
       "      <th>...</th>\n",
       "      <td>...</td>\n",
       "      <td>...</td>\n",
       "      <td>...</td>\n",
       "      <td>...</td>\n",
       "      <td>...</td>\n",
       "      <td>...</td>\n",
       "    </tr>\n",
       "    <tr>\n",
       "      <th>85</th>\n",
       "      <td>85</td>\n",
       "      <td>29</td>\n",
       "      <td>no fat</td>\n",
       "      <td>135</td>\n",
       "      <td>15 min</td>\n",
       "      <td>running</td>\n",
       "    </tr>\n",
       "    <tr>\n",
       "      <th>86</th>\n",
       "      <td>86</td>\n",
       "      <td>29</td>\n",
       "      <td>no fat</td>\n",
       "      <td>130</td>\n",
       "      <td>30 min</td>\n",
       "      <td>running</td>\n",
       "    </tr>\n",
       "    <tr>\n",
       "      <th>87</th>\n",
       "      <td>87</td>\n",
       "      <td>30</td>\n",
       "      <td>no fat</td>\n",
       "      <td>99</td>\n",
       "      <td>1 min</td>\n",
       "      <td>running</td>\n",
       "    </tr>\n",
       "    <tr>\n",
       "      <th>88</th>\n",
       "      <td>88</td>\n",
       "      <td>30</td>\n",
       "      <td>no fat</td>\n",
       "      <td>111</td>\n",
       "      <td>15 min</td>\n",
       "      <td>running</td>\n",
       "    </tr>\n",
       "    <tr>\n",
       "      <th>89</th>\n",
       "      <td>89</td>\n",
       "      <td>30</td>\n",
       "      <td>no fat</td>\n",
       "      <td>150</td>\n",
       "      <td>30 min</td>\n",
       "      <td>running</td>\n",
       "    </tr>\n",
       "  </tbody>\n",
       "</table>\n",
       "<p>90 rows × 6 columns</p>\n",
       "</div>"
      ],
      "text/plain": [
       "    Unnamed: 0  id     diet  pulse    time     kind\n",
       "0            0   1  low fat     85   1 min     rest\n",
       "1            1   1  low fat     85  15 min     rest\n",
       "2            2   1  low fat     88  30 min     rest\n",
       "3            3   2  low fat     90   1 min     rest\n",
       "4            4   2  low fat     92  15 min     rest\n",
       "..         ...  ..      ...    ...     ...      ...\n",
       "85          85  29   no fat    135  15 min  running\n",
       "86          86  29   no fat    130  30 min  running\n",
       "87          87  30   no fat     99   1 min  running\n",
       "88          88  30   no fat    111  15 min  running\n",
       "89          89  30   no fat    150  30 min  running\n",
       "\n",
       "[90 rows x 6 columns]"
      ]
     },
     "execution_count": 16,
     "metadata": {},
     "output_type": "execute_result"
    }
   ],
   "source": [
    "df # Opens dataset"
   ]
  },
  {
   "cell_type": "markdown",
   "id": "5cb169c8-eab3-41cb-898f-67a58eee1690",
   "metadata": {},
   "source": [
    "We can use the variable (column) names in the dataframe to create figures with Matplotlib. For example,\n",
    "what if we wanted to see the relationship between time spent exercising and\n",
    "pulse rate? Let's visualise this with a scatter plot:"
   ]
  },
  {
   "cell_type": "code",
   "execution_count": 18,
   "id": "34d7df2c",
   "metadata": {},
   "outputs": [
    {
     "data": {
      "image/png": "[encoded data removed]",
      "text/plain": [
       "<Figure size 432x288 with 1 Axes>"
      ]
     },
     "metadata": {
      "needs_background": "light"
     },
     "output_type": "display_data"
    }
   ],
   "source": [
    "fig, ax = plt.subplots()  # a figure with a single Axes\n",
    "ax.scatter(x = df.time, y = df.pulse) \n",
    "plt.show()"
   ]
  },
  {
   "cell_type": "markdown",
   "id": "1ef2d701",
   "metadata": {},
   "source": [
    "Let's pause here and look at what we've written. First, we created our figure container 'fig', containing a single axes object 'ax'. Second, we call our axes object to create a scatter plot with the 'time' variable from df on the x-axis, and the 'pulse' variable on the y-axis. \n",
    "\n",
    "This is a good first figure, but we can easily do more with this dataset. For example, there are three different kinds of exercise in the dataset"
   ]
  },
  {
   "cell_type": "code",
   "execution_count": 32,
   "id": "7d86b6a0-8802-438c-bb58-b00f39a26a74",
   "metadata": {},
   "outputs": [
    {
     "data": {
      "text/plain": [
       "array(['rest', 'walking', 'running'], dtype=object)"
      ]
     },
     "execution_count": 32,
     "metadata": {},
     "output_type": "execute_result"
    }
   ],
   "source": [
    "df.kind.unique() # We're asking for an array of the unique values in the \"kind\" column of the \"df\" dataframe."
   ]
  },
  {
   "cell_type": "markdown",
   "id": "b365acf4-a545-4b17-87da-b4542f061f8e",
   "metadata": {},
   "source": [
    "We can visualise the seperate relationship between \"time\" and \"pulse\" for each of these kinds of exercise, by adding to our axes object seperate scatterplot objects for each kind of exercise, with the colour 'c' variable in each scatterplot function allocated a different colour:"
   ]
  },
  {
   "cell_type": "code",
   "execution_count": 20,
   "id": "58346029",
   "metadata": {},
   "outputs": [
    {
     "data": {
      "image/png": "[encoded data removed]",
      "text/plain": [
       "<Figure size 432x288 with 1 Axes>"
      ]
     },
     "metadata": {
      "needs_background": "light"
     },
     "output_type": "display_data"
    }
   ],
   "source": [
    "fig, ax = plt.subplots()  # a figure with a single Axes\n",
    "ax.scatter(x = df.time[df.kind == \"rest\"], y = df.pulse[df.kind == \"rest\"], c = \"r\", label = \"rest\") \n",
    "ax.scatter(x = df.time[df.kind == \"walking\"], y = df.pulse[df.kind == \"walking\"], c = \"y\", label = \"walking\")\n",
    "ax.scatter(x = df.time[df.kind == \"running\"], y = df.pulse[df.kind == \"running\"], c = \"c\", label = \"running\") \n",
    "ax.set_ylabel('time')\n",
    "ax.set_xlabel('pulse')\n",
    "ax.legend()\n",
    "plt.show()"
   ]
  },
  {
   "cell_type": "markdown",
   "id": "9bf37007",
   "metadata": {},
   "source": [
    "**Exercise:** Swap the colours of the **rest** group and the **walking** group in the visualisation above."
   ]
  },
  {
   "cell_type": "markdown",
   "id": "d2cd2aeb-cf38-4e54-9956-611dbec048df",
   "metadata": {},
   "source": [
    "Above, we've created a simple scatterplot with multiple exercise groups distinguished by colour. We did this from scratch. First, we created a figure with a single Axes, then we visualised three scatterplots on that axis, where the points are coloured by which kind of exercise they are associated with. \n",
    "\n",
    "We mentioned earlier that there are many other libraries built on Matplotlib, that take care of calling some objects for you. These more declarative languages are simpler to use, allowing you to focus more on the story you're telling with your visualisations, but in some circumstances they give you less control. For example, Seaborn is a declarative plotting package built on Matplotlib. We imported it earler as **sns**. If we wanted to create a scatter plot like the one above, we can do it with Seaborn in a single line:"
   ]
  },
  {
   "cell_type": "code",
   "execution_count": 19,
   "id": "13ac5470-7488-4152-9321-adf6b03af2ac",
   "metadata": {},
   "outputs": [
    {
     "data": {
      "image/png": "[encoded data removed]",
      "text/plain": [
       "<Figure size 432x288 with 1 Axes>"
      ]
     },
     "metadata": {
      "needs_background": "light"
     },
     "output_type": "display_data"
    }
   ],
   "source": [
    "sns.scatterplot(data = df, x = \"time\", y = \"pulse\", hue = \"kind\")\n",
    "plt.show()"
   ]
  },
  {
   "cell_type": "markdown",
   "id": "5289c94d",
   "metadata": {},
   "source": [
    "Above, the Seaborn function **scatterplot** created the figure and axes objects, as well as x and y-axis labels and a legend for us, without us explicitly defining them. It also chose colours for each of the kinds of exercise for us too. More information about Seaborn, and the figures it can make, is available [here](https://seaborn.pydata.org/). \n",
    "\n",
    "We'll come back to Seaborn, and other plotting libraries as required throughout the course. We're not picky about what Python library to use - our objective is to make effective visualisations. However, most plotting libraries in Python are wrappers around Matplotlib, allowing you to focus on visualising rather than the technical details. To use the car analogy one more time - in this course we're more focussed on driving the car (i.e., communicating clearly with data) than building it. But, it's important we know a bit about what's going on 'under the hood' when we're generating visualisations in Python."
   ]
  },
  {
   "cell_type": "markdown",
   "id": "90543718-6588-463d-b3de-25cf4b038ced",
   "metadata": {},
   "source": [
    "Going back to our multi-colour Matplotlib scatterplot, you should have noticed this command and others like it: \n",
    "\n",
    "**df.time[df.kind == \"rest\"]**\n",
    "\n",
    "This command gives us as subset of the time variable, where the kind of exercise is rest. If you feel over your head about this subsetting command, don't wory. In the next section,\n",
    "we're going to learn how to index, slice, subset and query our dataset using the Pandas library, before we visualise."
   ]
  },
  {
   "cell_type": "markdown",
   "id": "f062063f-d737-4ce3-b110-f028c0cfb9f7",
   "metadata": {},
   "source": [
    "**Exercise:** Choose one of the Basic plot types on the Matplotlib website [here](https://matplotlib.org/stable/plot_types/index.html). In your own words, concisely explain step-by-step what the example code to generate your selected plot is doing. Feel free to use the rest of the Matplotlib website, or Google, if you're unsure about any parts of the code. Note, these examples generate their own data (under the 'make data' section of the code). It's fairly straightfoward, so if you're interested explore what they're doing here too. But since this is a visualisation course, make sure you understand the commands under the 'plot' section first."
   ]
  }
 ],
 "metadata": {
  "kernelspec": {
   "display_name": "Python 3 (ipykernel)",
   "language": "python",
   "name": "python3"
  },
  "language_info": {
   "codemirror_mode": {
    "name": "ipython",
    "version": 3
   },
   "file_extension": ".py",
   "mimetype": "text/x-python",
   "name": "python",
   "nbconvert_exporter": "python",
   "pygments_lexer": "ipython3",
   "version": "3.9.12"
  }
 },
 "nbformat": 4,
 "nbformat_minor": 5
}
