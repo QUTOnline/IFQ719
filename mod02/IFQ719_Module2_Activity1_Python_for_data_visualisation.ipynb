{
 "cells": [
  {
   "attachments": {},
   "cell_type": "markdown",
   "id": "9b2fd297",
   "metadata": {},
   "source": [
    "# Module 2, Activity 1: Python for Data Visualisation"
   ]
  },
  {
   "cell_type": "markdown",
   "id": "4c8d4746-3cca-4a1a-a10b-36a3b693637a",
   "metadata": {},
   "source": [
    "\n",
    "---\n",
    "\n",
    "## Getting Started with Jupyter Notebook\n",
    "\n",
    "Jupyter Notebook is an interactive environment where you can write and execute Python code in small sections called \"cells\". \n",
    "\n",
    "### How to Use This Notebook:\n",
    "- **Running a cell**: Click on a cell and press `Shift + Enter` to execute it. Alternatively, Hover over cell e.g. [33] and select the 'Run' button (▶).\n",
    "\n",
    "- **Adding new cells**: Click on `+` in the toolbar to add a new cell.\n",
    "\n",
    "- **Editing a cell**: Click inside a cell to start typing.\n",
    "\n",
    "---"
   ]
  },
  {
   "cell_type": "code",
   "execution_count": null,
   "id": "3496db4e-d779-450b-9d51-82a558179477",
   "metadata": {},
   "outputs": [],
   "source": [
    "## The components of a Matplotlib figure"
   ]
  },
  {
   "attachments": {},
   "cell_type": "markdown",
   "id": "9dc759a8",
   "metadata": {},
   "source": [
    "Before creating visualisations, we need to understand how Matplotlib works. Matplotlib builds figures using an object-oriented structure, meaning it organises different components (such as axes, labels, and plots) into a hierarchy.\n",
    "\n",
    "Think of it like building a car—each part (wheels, windows, engine) comes together in a structured way to form the final product. Similarly, in object-oriented programming, code objects take data (what we want to visualise) and procedures (plotting commands) to produce a visual output.\n",
    "\n",
    "Many other libraries, such as Seaborn and Pyplot, are built on Matplotlib and handle much of this structure for you. Using these libraries is like customising a car instead of building one from scratch.\n",
    "\n",
    "We'll start by understanding how Matplotlib creates visualisations from the ground up. This will give you a solid foundation when using higher-level libraries, helping you make customisations and troubleshoot issues confidently.\n",
    "\n",
    "For detailed guidance, the official Matplotlib website is the best resource, and we'll refer to it throughout this course."
   ]
  },
  {
   "attachments": {},
   "cell_type": "markdown",
   "id": "8661f15b",
   "metadata": {},
   "source": [
    "---\n",
    "\n",
    "### Step 1: Importing Libraries"
   ]
  },
  {
   "attachments": {},
   "cell_type": "markdown",
   "id": "457d93d1",
   "metadata": {},
   "source": [
    "Let's import Matplotlib and any other libraries we will need.\n"
   ]
  },
  {
   "cell_type": "code",
   "execution_count": null,
   "id": "ac77cce2",
   "metadata": {},
   "outputs": [],
   "source": [
    "# Note: To run this code, hover over cell [1] and select the 'Run' button (▶).\n",
    "\n",
    "# Step 1: Import Matplotlib, the most common visualisation library\n",
    "import matplotlib.pyplot as plt\n",
    "\n",
    "# Step 2: Import Seaborn for advanced visualisations\n",
    "import seaborn as sns\n",
    "\n",
    "# Step 3: Import Pandas for working with datasets. This allows us to:\n",
    "    # - Load and manipulate tabular data.\n",
    "    # - Perform data analysis and transformations.\n",
    "    # Let's create a simple DataFrame (table) and visualise it.\n",
    "import pandas as pd\n",
    "\n",
    "# Step 4: Import NumPy for numerical computations. This is for:\n",
    "    # - Handling arrays and matrices.\n",
    "    # - Performing mathematical computations.\n",
    "import numpy as np\n",
    "\n",
    "# Step 5: Import datetime for working with dates and times\n",
    "import datetime as dt\n",
    "\n",
    "# Step 6: Import tick formatting tools from Matplotlib\n",
    "    # - **AutoMinorLocator** adds minor ticks between major ones.\n",
    "    # - **MultipleLocator** controls tick intervals.\n",
    "    # - **FuncFormatter** customises tick labels (e.g., adding currency symbols).\n",
    "from matplotlib.ticker import AutoMinorLocator, MultipleLocator, FuncFormatter"
   ]
  },
  {
   "attachments": {},
   "cell_type": "markdown",
   "id": "240b12b4",
   "metadata": {},
   "source": [
    "---\n",
    "### Step 2: Figure - your canvas\n",
    "A Figure in Matplotlib is the top-level container for all visual elements of a plot. Think of it as a blank canvas where you can place one or multiple subplots (also called Axes). It does not contain any actual data or plots by itself—it simply provides a space to hold them.\n",
    "\n"
   ]
  },
  {
   "cell_type": "code",
   "execution_count": null,
   "id": "a8390ad2",
   "metadata": {},
   "outputs": [],
   "source": [
    "# Hover over cell [2] and select the 'Run' button (▶).\n",
    "\n",
    "fig = plt.figure()  # an empty figure with no "
   ]
  },
  {
   "attachments": {},
   "cell_type": "markdown",
   "id": "9751262b",
   "metadata": {},
   "source": [
    "`fig = plt.figure()` creates an empty figure (a blank canvas).The default size is of this canvas is 640x440.\n",
    "\n",
    "Note: Figure (fig)\n",
    "\n",
    "* This is the overall container for the visualisation.\n",
    "* It can hold multiple plots (subplots).\n",
    "* It does not contain subplots by default.\n",
    "\n",
    "---"
   ]
  },
  {
   "attachments": {},
   "cell_type": "markdown",
   "id": "e11e7ae5",
   "metadata": {},
   "source": [
    "### Step 3: Axes - your plot/s\n",
    "We still have no visualisation yet. That's because we need to specify the region on the figure where we're going to visualise. \n",
    "\n",
    "These regions are called axes objects. This might seem redundant - isn't the figure itself the region we're visualising in? - but it's a necessary generalisation if we want to plot multiple visualisations (subplots) on the same figure, or annotate outside the axis of our plot. More broadly, the figure object is the container in which all the nested 'Artists' (axes, legends, colourbars, subplots etc) are kept together.\n",
    "\n",
    "**NOTE:** One source of confusion here is the name 'Axes object': an Axes actually translates into what we think of as an individual plot or graph, rather than the plural of axis. Our x and y-axis (and z-axis in the case of 3D visualisations) are the Artist objects that give the boundaries of our plot, and they're further down the object hierarchy. \n",
    "\n",
    "Let's make a figure, with a single axes:"
   ]
  },
  {
   "cell_type": "code",
   "execution_count": null,
   "id": "cbb9fa15",
   "metadata": {},
   "outputs": [],
   "source": [
    "# Hover over cell [8] and select the 'Run' button (▶).\n",
    "\n",
    "fig, ax = plt.subplots()  # a figure with a single Axes"
   ]
  },
  {
   "attachments": {},
   "cell_type": "markdown",
   "id": "46d7c28b",
   "metadata": {},
   "source": [
    "Note that since we didn't pass any arguments to plt.subplots(), it creates a figure with a single axes. This is the default operation. But if we wanted a figure with multiple axes, we can specify:"
   ]
  },
  {
   "cell_type": "code",
   "execution_count": null,
   "id": "3a38b781",
   "metadata": {},
   "outputs": [],
   "source": [
    "# Hover over cell [5] and select the 'Run' button (▶).\n",
    "\n",
    "fig, ax = plt.subplots(2, 2)  # a figure with a 2x2 grid of Axes"
   ]
  },
  {
   "attachments": {},
   "cell_type": "markdown",
   "id": "31750ed0",
   "metadata": {},
   "source": [
    "---\n",
    "\n",
    "## Exercise:\n",
    "\n",
    "Complete the following task: Create a figure object containing a 3x4 grid of Axes objects."
   ]
  },
  {
   "cell_type": "code",
   "execution_count": null,
   "id": "a9bcdbac",
   "metadata": {},
   "outputs": [],
   "source": [
    "# Use this space to create your own Axes object\n"
   ]
  },
  {
   "attachments": {},
   "cell_type": "markdown",
   "id": "15ce0048",
   "metadata": {},
   "source": [
    "---\n",
    "\n",
    "## Our first visualisation"
   ]
  },
  {
   "attachments": {},
   "cell_type": "markdown",
   "id": "2d92a704",
   "metadata": {},
   "source": [
    "Let's make our first visualisation. \n",
    "\n",
    "---\n",
    "\n",
    "### Step 1: Loading the data \n",
    "setWe'll start by loading a dataset containing the some information about the physiology and exercise of 30 \n",
    "individuals."
   ]
  },
  {
   "cell_type": "code",
   "execution_count": null,
   "id": "7dda836a",
   "metadata": {},
   "outputs": [],
   "source": [
    "# Hover over cell [18] and select the 'Run' button (▶).\n",
    "\n",
    "df = pd.read_csv(\"data/exercise.csv\")"
   ]
  },
  {
   "attachments": {},
   "cell_type": "markdown",
   "id": "8c16f3ac",
   "metadata": {},
   "source": [
    "The **pd.read_csv** command returns a Pandas dataframe. \n",
    "\n",
    "Remember; \n",
    "* Pandas allows us to load, manipulate, and analyze tabular data.\n",
    "* Let's create a simple DataFrame (table) and visualize it. \n",
    "\n",
    "\n",
    "To confirm that our data is stored as a DataFrame, we can use this command:\n"
   ]
  },
  {
   "cell_type": "code",
   "execution_count": null,
   "id": "c180567e",
   "metadata": {},
   "outputs": [],
   "source": [
    "# Hover over cell [22] and select the 'Run' button (▶).\n",
    "\n",
    "type(df)"
   ]
  },
  {
   "attachments": {},
   "cell_type": "markdown",
   "id": "cd22a5ab",
   "metadata": {},
   "source": [
    "If the output says `<class 'pandas.core.frame.DataFrame'>`, that means our data is in the correct format."
   ]
  },
  {
   "attachments": {},
   "cell_type": "markdown",
   "id": "140da613",
   "metadata": {},
   "source": [
    "---\n",
    "### Step 2: Understanding the Dataset\n",
    "\n",
    "Before we plot, let's have a quick look at the dataset. There are 90 rows with five columns with information.\n",
    "We can see that some rows have numbers, others have words (string objects). But note that the first column is just an index of the rows,\n",
    "so we can ignore it. "
   ]
  },
  {
   "cell_type": "code",
   "execution_count": null,
   "id": "86aba48b",
   "metadata": {},
   "outputs": [],
   "source": [
    "# Hover over cell [26] and select the 'Run' button (▶).\n",
    "\n",
    "df # The command df displays the dataset. "
   ]
  },
  {
   "attachments": {},
   "cell_type": "markdown",
   "id": "c2d73d24",
   "metadata": {},
   "source": [
    "---\n",
    "### Step 3: Fixing the \"time\" Column\n",
    "\n",
    "We can use the variable (column) names in the dataframe to create figures with Matplotlib. For example,\n",
    "if we want to see the relationship between time spent exercising and\n",
    "pulse rate we can use a scatter plot:"
   ]
  },
  {
   "cell_type": "code",
   "execution_count": null,
   "id": "1fa52785",
   "metadata": {},
   "outputs": [],
   "source": [
    "# Hover over cell [28] and select the 'Run' button (▶).\n",
    "\n",
    "fig, ax = plt.subplots()  # Create a figure and axes (plot area)\n",
    "ax.scatter(x = df.time, y = df.pulse) # Create a scatter plot\n",
    "plt.show()# Display the plot"
   ]
  },
  {
   "attachments": {},
   "cell_type": "markdown",
   "id": "bab701bc",
   "metadata": {},
   "source": [
    "What’s Happening Here?\n",
    "1. We import Matplotlib to create the plot.\n",
    "2. We create a figure and axes (a blank canvas).\n",
    "3. We plot the time (x-axis) against pulse (y-axis).\n",
    "4. We label the axes so the chart makes sense.\n",
    "5. We display the plot with plt.show().\n",
    "\n",
    "This is a good first figure, but we can easily do more with this dataset. For example, there are three different kinds of exercise in the dataset\n",
    "\n",
    "---"
   ]
  },
  {
   "attachments": {},
   "cell_type": "markdown",
   "id": "46cfcc9e",
   "metadata": {},
   "source": [
    "### Step 4: Adding Colors for Different Exercise Types\n",
    "\n",
    "We can make the plot even clearer by coloring each type of exercise differently.\n",
    "\n",
    "Before plotting, let's see the different types of exercise in our dataset:\n"
   ]
  },
  {
   "cell_type": "code",
   "execution_count": null,
   "id": "10d468a3",
   "metadata": {},
   "outputs": [],
   "source": [
    "df.kind.unique() # We're asking for an array of the unique values in the \"kind\" column of the \"df\" dataframe."
   ]
  },
  {
   "attachments": {},
   "cell_type": "markdown",
   "id": "1d767431",
   "metadata": {},
   "source": [
    "We can show the separate relationships between \"time\" and \"pulse\" for each exercise type by adding individual scatter plots to our axes. Each scatter plot will have a unique color assigned to the 'c' variable."
   ]
  },
  {
   "cell_type": "code",
   "execution_count": null,
   "id": "d5a27a3f",
   "metadata": {},
   "outputs": [],
   "source": [
    "fig, ax = plt.subplots()  # a figure with a single Axes\n",
    "ax.scatter(x = df.time[df.kind == \"rest\"], y = df.pulse[df.kind == \"rest\"], c = \"r\", label = \"rest\") \n",
    "ax.scatter(x = df.time[df.kind == \"walking\"], y = df.pulse[df.kind == \"walking\"], c = \"y\", label = \"walking\")\n",
    "ax.scatter(x = df.time[df.kind == \"running\"], y = df.pulse[df.kind == \"running\"], c = \"c\", label = \"running\") \n",
    "ax.set_ylabel('time')\n",
    "ax.set_xlabel('pulse')\n",
    "ax.legend() # Adds a legend to explain the colors\n",
    "plt.show()"
   ]
  },
  {
   "attachments": {},
   "cell_type": "markdown",
   "id": "18a992cc",
   "metadata": {},
   "source": [
    "We filter the data so that:\n",
    "* \"Rest\" is plotted in red (r).\n",
    "* \"Walking\" is plotted in yellow (y).\n",
    "* \"Running\" is plotted in cyan (c).\n",
    "We label the axes and add a legend to explain what each color represents.\n",
    "\n",
    " Here we have created a simple scatterplot with multiple exercise groups distinguished by colour. First, we created a figure with a single Axes, then we visualised three scatterplots on that axis. Each point is coloured by which kind of exercise they are associated with.\n",
    " \n",
    "---"
   ]
  },
  {
   "attachments": {},
   "cell_type": "markdown",
   "id": "b56998d0",
   "metadata": {},
   "source": [
    "## Exercise:\n",
    "\n",
    "Complete the following task: Swap the colours of the **rest** group and the **walking** group in the visualisation above.\n",
    "\n",
    "Change **rest** to yellow `(y)`.\n",
    "Change **walking** to red `(r)`."
   ]
  },
  {
   "attachments": {},
   "cell_type": "markdown",
   "id": "bd860e94",
   "metadata": {},
   "source": [
    "---\n",
    "### Using seaborn\n",
    "Matplotlib is very flexible, but it requires a lot of code to create detailed visualizations.\n",
    "\n",
    "If you want a simpler way to make the same scatter plot, you can use Seaborn, which is built on top of Matplotlib."
   ]
  },
  {
   "cell_type": "code",
   "execution_count": null,
   "id": "289420ea",
   "metadata": {},
   "outputs": [],
   "source": [
    "sns.scatterplot(data = df, x = \"time\", y = \"pulse\", hue = \"kind\")\n",
    "plt.show()"
   ]
  },
  {
   "attachments": {},
   "cell_type": "markdown",
   "id": "8a3fec0e",
   "metadata": {},
   "source": [
    "What’s Different?\n",
    "* Less code: Seaborn automatically creates the figure and axes.\n",
    "* Automatic colors: It assigns different colors to each exercise type.\n",
    "* Legend included: No need to manually add a legend—it’s done for you!\n",
    "\n",
    "More information about Seaborn, and the figures it can make, is available [here](https://seaborn.pydata.org/). \n",
    "\n",
    "We'll use Seaborn and other plotting libraries as needed, but our goal is effective visualisation, not library preference. Most Python plotting tools are built on Matplotlib, simplifying the process.\n",
    "\n",
    "Using the car analogy—this course focuses on driving (clear data communication) rather than building. Still, understanding what happens under the hood helps when creating visualisations in Python."
   ]
  },
  {
   "attachments": {},
   "cell_type": "markdown",
   "id": "b8cd8706",
   "metadata": {},
   "source": [
    "---\n",
    "### Understanding Data Subsetting\n",
    "\n",
    "In the multi-colour Matplotlib scatterplot, we use the following command\n",
    "\n",
    "`df.time[df.kind == \"rest\"]`\n",
    "\n",
    "This command gives us as subset of the time variable, where the kind of exercise is rest. If you feel over your head about this subsetting command, don't wory. In the next section,\n",
    "we're going to learn how to index, slice, subset and query our dataset using the Pandas library, before we visualise."
   ]
  },
  {
   "attachments": {},
   "cell_type": "markdown",
   "id": "4ac1dbdf",
   "metadata": {},
   "source": [
    "---\n",
    "\n",
    "## Exercise:\n",
    "\n",
    "1. Choose one of the Basic plot types on the Matplotlib website [here](https://matplotlib.org/stable/plot_types/index.html). \n",
    "2. In your own words, concisely explain step-by-step what the example code to generate your selected plot is doing. Feel free to use the rest of the Matplotlib website, or Google, if you're unsure about any parts of the code. \n",
    "\n",
    "**Note**: these examples generate their own data (under the 'make data' section of the code)."
   ]
  },
  {
   "cell_type": "code",
   "execution_count": null,
   "id": "c55176d2-da61-46bb-aecb-f6526729aba5",
   "metadata": {},
   "outputs": [],
   "source": []
  }
 ],
 "metadata": {
  "kernelspec": {
   "display_name": "Python 3 (ipykernel)",
   "language": "python",
   "name": "python3"
  },
  "language_info": {
   "codemirror_mode": {
    "name": "ipython",
    "version": 3
   },
   "file_extension": ".py",
   "mimetype": "text/x-python",
   "name": "python",
   "nbconvert_exporter": "python",
   "pygments_lexer": "ipython3",
   "version": "3.11.11"
  }
 },
 "nbformat": 4,
 "nbformat_minor": 5
}
