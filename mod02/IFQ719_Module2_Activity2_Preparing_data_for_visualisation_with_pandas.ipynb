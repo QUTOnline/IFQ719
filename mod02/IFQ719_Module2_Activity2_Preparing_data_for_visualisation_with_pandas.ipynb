{
 "cells": [
  {
   "attachments": {},
   "cell_type": "markdown",
   "id": "251e2ed8",
   "metadata": {},
   "source": [
    "# Module 2, Activity 2: Preparing Data for Visualisation with Pandas\n",
    "---"
   ]
  },
  {
   "attachments": {},
   "cell_type": "markdown",
   "id": "40672bbf",
   "metadata": {},
   "source": [
    "## Getting Started with Jupyter Notebook\n",
    "\n",
    "Jupyter Notebook is an interactive environment where you can write and execute Python code in small sections called \"cells\". \n",
    "\n",
    "### How to Use This Notebook:\n",
    "- **Running a cell**: Click on a cell and press `Shift + Enter` to execute it. Alternatively, Hover over cell e.g. [33] and select the 'Run' button (▶).\n",
    "\n",
    "- **Adding new cells**: Click on `+` in the toolbar to add a new cell.\n",
    "\n",
    "- **Editing a cell**: Click inside a cell to start typing.\n",
    "\n",
    "---"
   ]
  },
  {
   "attachments": {},
   "cell_type": "markdown",
   "id": "eda8fc1c",
   "metadata": {},
   "source": [
    "# Loading Data from a CSV File\n",
    "\n",
    "We are working with a tabular dataset, which means the data is stored in rows and columns—just like an Excel spreadsheet. We can load this data into Pandas, a Python library designed for handling data.\n",
    "\n",
    "**Note:** See the [quick reference guide](https://pandas.pydata.org/docs/reference/api/pandas.DataFrame.html ) to understand and utilise the pandas DataFrame.\n",
    "\n",
    "---\n",
    "## Step 1: Importing the dataset\n",
    "\n",
    "**Importing a Dataset:** Ensure that your dataset is stored in the correct location before loading it. The taxis.csv file must be inside a folder named \"data\". Otherwise, the code will not work. Alternatively, modify the filepath in your code to match the current location of your dataset.\n",
    "\n",
    "Run (▶) the following code."
   ]
  },
  {
   "cell_type": "code",
   "execution_count": null,
   "id": "c731c35d",
   "metadata": {},
   "outputs": [],
   "source": [
    "import pandas as pd  # Import Pandas\n",
    "\n",
    "# Load data from a CSV file\n",
    "df2 = pd.read_csv(\"data/taxis.csv\")\n",
    "\n",
    "# Display the first 10 rows to understand the dataset\n",
    "df2.head(10)"
   ]
  },
  {
   "attachments": {},
   "cell_type": "markdown",
   "id": "381935c3",
   "metadata": {},
   "source": [
    "What did this code do?\n",
    "\n",
    "`pd.read_csv(\"data/taxis.csv\")` loads the data from a CSV file.\n",
    "\n",
    "`.head(10)` shows the first 10 rows so we can see what the dataset looks like.\n",
    "\n",
    "---"
   ]
  },
  {
   "attachments": {},
   "cell_type": "markdown",
   "id": "01953e29",
   "metadata": {},
   "source": [
    "## Step 2: Checking Data Types\n",
    "Before we start analyzing the data, we need to check what types of data we are dealing with.\n",
    "\n",
    "Run (▶) the following code."
   ]
  },
  {
   "cell_type": "code",
   "execution_count": null,
   "id": "db5f0540",
   "metadata": {},
   "outputs": [],
   "source": [
    "df2.dtypes"
   ]
  },
  {
   "attachments": {},
   "cell_type": "markdown",
   "id": "f92fc04f",
   "metadata": {},
   "source": [
    "Pandas assigns a data type to each column (numbers, text, dates, etc.).\n",
    "* Object = Text (e.g., names, addresses, dates stored as text).\n",
    "* int64 = Whole numbers (e.g., 1, 2, 3).\n",
    "* float64 = Decimal numbers (e.g., 2.5, 1000.89)."
   ]
  },
  {
   "attachments": {},
   "cell_type": "markdown",
   "id": "9b1eb947",
   "metadata": {},
   "source": [
    "---\n",
    "## Step 3: Converting Dates to Datetime Format\n",
    "The dataset contains **pickup** and **dropoff** times. These are dates, but they are currently stored as text (object type).\n",
    "We need to convert them to datetime format so we can analyze time-based trends."
   ]
  },
  {
   "cell_type": "code",
   "execution_count": null,
   "id": "235b4274",
   "metadata": {},
   "outputs": [],
   "source": [
    "df2[\"pickup\"] = pd.to_datetime(df2[\"pickup\"], dayfirst=True)\n",
    "df2[\"dropoff\"] = pd.to_datetime(df2[\"dropoff\"], dayfirst=True)\n",
    "\n",
    "# Check the updated data types\n",
    "df2.dtypes"
   ]
  },
  {
   "attachments": {},
   "cell_type": "markdown",
   "id": "091ab7cd",
   "metadata": {},
   "source": [
    "\n",
    "\n",
    "This allows us to sort, filter, and calculate time differences easily.\n",
    "If we leave them as text, Python won’t recognise them as real dates.\n",
    "\n",
    "⚠ **Warning:** `pd.to_datetime()` tries to guess the format, but sometimes it gets it wrong! For more information go to: https://pandas.pydata.org/docs/reference/api/pandas.to_datetime.html#pandas.to_datetime "
   ]
  },
  {
   "attachments": {},
   "cell_type": "markdown",
   "id": "8d0ef4e2",
   "metadata": {},
   "source": [
    "Note how we called variables - by using their column names. This is one of many extremely useful things we can do with Pandas dataframes.\n",
    "\n",
    "If we wanted to look again at the data, we will see no change to the table. But, now we can perform arithmetic with the pickup and dropoff times."
   ]
  },
  {
   "cell_type": "code",
   "execution_count": null,
   "id": "4cb0817b",
   "metadata": {},
   "outputs": [],
   "source": [
    "df2.head()"
   ]
  },
  {
   "attachments": {},
   "cell_type": "markdown",
   "id": "48d69112",
   "metadata": {},
   "source": [
    "---\n",
    "# Indexing and Slicing\n",
    "Sometimes, we don’t need to use the entire dataset—we only want to focus on specific rows or columns.\n",
    "We can do this using slicing.\n",
    "\n",
    "---\n",
    "## Step 1: Understanding Slicing Syntax\n",
    "We can extract a portion of the dataset using this format:"
   ]
  },
  {
   "cell_type": "markdown",
   "id": "242fe14a-844e-4735-bda6-29b00bf40fdc",
   "metadata": {},
   "source": [
    "df2[start:stop:step]"
   ]
  },
  {
   "attachments": {},
   "cell_type": "markdown",
   "id": "61bae623",
   "metadata": {},
   "source": [
    "* start → The row index where the slice begins (included).\n",
    "* stop → The row index where the slice ends (not included).\n",
    "* step → The number of rows to skip (optional)."
   ]
  },
  {
   "attachments": {},
   "cell_type": "markdown",
   "id": "2c6ed379",
   "metadata": {},
   "source": [
    "---\n",
    "## Step 2: Slicing by Row\n",
    "Let’s look at some examples:"
   ]
  },
  {
   "cell_type": "code",
   "execution_count": null,
   "id": "a16d41b8",
   "metadata": {},
   "outputs": [],
   "source": [
    "df2[5:6]  # Returns row at index 5 (remember, Python starts counting from 0)\n",
    "df2[:5]   # Returns the first 5 rows (index 0 to 4)\n",
    "df2[6000:-100]  # Returns rows from index 6000 to the 100th last row\n",
    "df2[-60:-50]  # Returns rows from 60th last row to 50th last row\n"
   ]
  },
  {
   "attachments": {},
   "cell_type": "markdown",
   "id": "50401c4d",
   "metadata": {},
   "source": [
    "---\n",
    "## Step 3: Using Steps to Skip Rows\n",
    "We can skip rows using a step value."
   ]
  },
  {
   "cell_type": "code",
   "execution_count": null,
   "id": "632104ff",
   "metadata": {},
   "outputs": [],
   "source": [
    "df2[::5]  # Selects every 5th row\n",
    "df2[10:50:5]  # Selects every 5th row between index 10 and 50\n",
    "df2[10::-1]  # Selects rows **in reverse order**, starting from index 10\n"
   ]
  },
  {
   "attachments": {},
   "cell_type": "markdown",
   "id": "93c83d61",
   "metadata": {},
   "source": [
    "Negative Step (-1) → Reverses the order of rows."
   ]
  },
  {
   "attachments": {},
   "cell_type": "markdown",
   "id": "ae821173",
   "metadata": {},
   "source": [
    "---\n",
    "## Step 4: Understanding the Exercise\n",
    "Look at this command:"
   ]
  },
  {
   "cell_type": "code",
   "execution_count": null,
   "id": "b56fc6a4",
   "metadata": {},
   "outputs": [],
   "source": [
    "df2[50:30:-2]"
   ]
  },
  {
   "attachments": {},
   "cell_type": "markdown",
   "id": "3a8724bf",
   "metadata": {},
   "source": [
    "What does this do?\n",
    "\n",
    "* Starts at row index 50.\n",
    "* Ends at row index 30 (not included).\n",
    "* Moves backward (-2 step), selecting every second row."
   ]
  },
  {
   "attachments": {},
   "cell_type": "markdown",
   "id": "32e73595",
   "metadata": {},
   "source": [
    "---\n",
    "# Indexing Data by Columns\n",
    "So far, we've learned how to index rows. Now, let's explore how to select specific columns from a DataFrame."
   ]
  },
  {
   "attachments": {},
   "cell_type": "markdown",
   "id": "1d2e77cd",
   "metadata": {},
   "source": [
    "---\n",
    "## Step 1: Selecting a Single Column\n",
    "We can extract a single column from a DataFrame using square brackets:"
   ]
  },
  {
   "cell_type": "code",
   "execution_count": null,
   "id": "1fc084c5",
   "metadata": {},
   "outputs": [],
   "source": [
    "df2[[\"passengers\"]]\n"
   ]
  },
  {
   "attachments": {},
   "cell_type": "markdown",
   "id": "8597afdb",
   "metadata": {},
   "source": [
    "What happens when we run the code? It returns a **DataFrame** with only the `\"passengers\"` column. It preserves the DataFrame structure.\n",
    "\n",
    "What if we forget the extra brackets?"
   ]
  },
  {
   "cell_type": "code",
   "execution_count": null,
   "id": "e6eaa111",
   "metadata": {},
   "outputs": [],
   "source": [
    "df2[\"passengers\"]\n"
   ]
  },
  {
   "attachments": {},
   "cell_type": "markdown",
   "id": "ddaf3f4a",
   "metadata": {},
   "source": [
    "This returns a **Series**, not a DataFrame.\n",
    "A Series is like a **single-column list**, while a **DataFrame** is a **table with multiple columns.**\n",
    "\n",
    "---\n",
    "## Step 2: Selecting Multiple Columns\n",
    "To select multiple columns, include them inside double square brackets:"
   ]
  },
  {
   "cell_type": "code",
   "execution_count": null,
   "id": "e9553b9e",
   "metadata": {},
   "outputs": [],
   "source": [
    "df2[[\"pickup\", \"dropoff\"]]\n"
   ]
  },
  {
   "attachments": {},
   "cell_type": "markdown",
   "id": "e64c50fc",
   "metadata": {},
   "source": [
    "This returns **a new DataFrame** with only the `\"pickup\"` and `\"dropoff\"` columns."
   ]
  },
  {
   "attachments": {},
   "cell_type": "markdown",
   "id": "9de1dbc2",
   "metadata": {},
   "source": [
    "---\n",
    "## Step 3: Try It Yourself!\n",
    "**Experiment:** Change the code below to select three different columns from your dataset."
   ]
  },
  {
   "cell_type": "code",
   "execution_count": null,
   "id": "e08a84c5",
   "metadata": {},
   "outputs": [],
   "source": [
    "df2[[\"passengers\", \"pickup\", \"dropoff\"]]\n"
   ]
  },
  {
   "attachments": {},
   "cell_type": "markdown",
   "id": "0ee54b35",
   "metadata": {},
   "source": [
    "---\n",
    "# Indexing by Rows and Columns\n",
    "So far, we’ve seen how to select only rows or only columns.\n",
    "But what if we need to select both at the same time?\n",
    "For this, we use `iloc` (index-based) or `loc` (label-based).\n",
    "\n",
    "---\n",
    "## Step 1: Understanding `iloc` (Index-Based Selection)\n",
    "Think of `iloc` like selecting items by row/column number (starting from 0).\n",
    "\n",
    "**Example:** Selecting specific rows and columns using `iloc`"
   ]
  },
  {
   "cell_type": "code",
   "execution_count": null,
   "id": "d8c0fff8",
   "metadata": {},
   "outputs": [],
   "source": [
    "df2.iloc[0:10, 3:5]\n"
   ]
  },
  {
   "attachments": {},
   "cell_type": "markdown",
   "id": "67fb7ec9",
   "metadata": {},
   "source": [
    "* Selects rows 0 to 9 (does NOT include row 10)\n",
    "* Selects columns 3 and 4 (does NOT include column 5)\n",
    "\n",
    "**Remember:** `iloc` uses Python-style indexing, so the end value is not included.\n",
    "\n",
    "---\n",
    "## Step 2: Understanding `loc` (Label-Based Selection)\n",
    "Think of `loc` like selecting items by their actual names (labels).\n",
    "\n",
    "Example: Selecting specific rows and columns using `loc`"
   ]
  },
  {
   "cell_type": "code",
   "execution_count": null,
   "id": "41b6f3ef",
   "metadata": {},
   "outputs": [],
   "source": [
    "df2.loc[0:10, [\"distance\", \"fare\"]]\n"
   ]
  },
  {
   "attachments": {},
   "cell_type": "markdown",
   "id": "ef1f5265",
   "metadata": {},
   "source": [
    "* Selects rows 0 to 10 (includes row 10!)\n",
    "* Selects columns \"distance\" and \"fare\"\n",
    "\n",
    "**Remember:** loc includes the last value in the range.\n",
    "\n",
    "---\n",
    "## Step 3: Key Differences Between `iloc` and `loc`\n",
    "\n",
    "| Feature             | `iloc` (Index-based)                  | `loc` (Label-based)                    |\n",
    "|---------------------|--------------------------------------|---------------------------------------|\n",
    "| **How it works**    | Uses row/column numbers (starting at 0) | Uses actual row/column labels        |\n",
    "| **End value included?** | **No** (excludes stop index)          | **Yes** (includes stop index)           |\n",
    "| **Example**         | `df2.iloc[0:10, 3:5]`                | `df2.loc[0:10, [\"distance\", \"fare\"]]` |\n",
    "\n",
    "---\n",
    "\n",
    "## Step 4: Special Case - Selecting All Rows but Specific Columns\n",
    "We can select all rows but only certain columns using iloc:"
   ]
  },
  {
   "cell_type": "code",
   "execution_count": null,
   "id": "f0a04616",
   "metadata": {},
   "outputs": [],
   "source": [
    "df2.iloc[:, 3:5]  # Selects all rows but only columns 3 and 4\n",
    "df2.iloc[:, [3, 4]]  # Same as above, but selects specific column positions\n"
   ]
  },
  {
   "attachments": {},
   "cell_type": "markdown",
   "id": "4ce0be7b",
   "metadata": {},
   "source": [
    "---\n",
    "## Step 5: Try It Yourself!\n",
    "Run  (▶) each of these commands and write down your observations."
   ]
  },
  {
   "cell_type": "code",
   "execution_count": null,
   "id": "cca63e1b",
   "metadata": {},
   "outputs": [],
   "source": [
    "df2.iloc[0:10, 3:5]\n",
    "df2.loc[0:10, [\"distance\", \"fare\"]]\n",
    "df2[0:10][[\"distance\", \"fare\"]]\n",
    "df2.iloc[0:5]\n",
    "df2.loc[0:5]"
   ]
  },
  {
   "attachments": {},
   "cell_type": "markdown",
   "id": "53791971",
   "metadata": {},
   "source": [
    "1. What is the difference between using iloc and loc?\n",
    "2. How does `df2[0:10][[\"distance\", \"fare\"]]` behave differently?\n",
    "3. Does `df2.iloc[0:5]` return the same rows as `df2.loc[0:5]`? Why or why not?\n",
    "\n",
    "Run  (▶) these two commands and analyze the output."
   ]
  },
  {
   "cell_type": "code",
   "execution_count": null,
   "id": "e4ec658c",
   "metadata": {},
   "outputs": [],
   "source": [
    "df2.iloc[0:4, 1:4]\n",
    "#df2.loc[0:4, 1:4]\n",
    "df2.loc[0:4, [\"pickup\", \"dropoff\"]]"
   ]
  },
  {
   "attachments": {},
   "cell_type": "markdown",
   "id": "85294e38",
   "metadata": {},
   "source": [
    "1. Does `iloc` include the last row and column in the range?\n",
    "2. Does `loc` behave differently when selecting a column by number?"
   ]
  },
  {
   "attachments": {},
   "cell_type": "markdown",
   "id": "95aab1d6",
   "metadata": {},
   "source": [
    "---\n",
    "# Filtering Data with Queries\n",
    "\n",
    "Instead of selecting data by **row/column numbers**, we can **filter** our dataset based on **conditions**.\n",
    "\n",
    "For example, we might want to:\n",
    "- Find all taxi rides with a fare over $20\n",
    "- Find rides between 1 and 5 miles long\n",
    "- Find rides that happened in a specific date range\n",
    "\n",
    "We can do this using **queries**.\n",
    "\n",
    "--- \n",
    "\n",
    "## Step 1: Basic Query Syntax\n",
    "\n",
    "We use **comparison operators** to filter data:\n",
    "\n",
    "| Operator | Meaning |\n",
    "|----------|---------|\n",
    "| `==` | Equals |\n",
    "| `!=` | Not equals |\n",
    "| `>` | Greater than |\n",
    "| `<` | Less than |\n",
    "| `>=` | Greater than or equal |\n",
    "| `<=` | Less than or equal |\n",
    "\n",
    "---\n",
    "## Step 2: Querying a DataFrame\n",
    "\n",
    "Let's find all taxi rides where the fare was more than $20.\n",
    "\n"
   ]
  },
  {
   "cell_type": "code",
   "execution_count": null,
   "id": "c5b42af5",
   "metadata": {},
   "outputs": [],
   "source": [
    "fare20 = df2.query(\"fare > 20\")\n",
    "fare20"
   ]
  },
  {
   "attachments": {},
   "cell_type": "markdown",
   "id": "c0c99813",
   "metadata": {},
   "source": [
    "This creates a new DataFrame called fare20, which contains only rides where `fare > 20.`\n",
    "\n",
    "---\n",
    "## Step 3: More Complex Queries\n",
    "Let's filter rides that were between 1 and 5 miles long AND had a fare greater than $20."
   ]
  },
  {
   "cell_type": "code",
   "execution_count": null,
   "id": "956b090e",
   "metadata": {},
   "outputs": [],
   "source": [
    "df2.query(\"fare > 20 & 1 <= distance <= 5\")\n"
   ]
  },
  {
   "attachments": {},
   "cell_type": "markdown",
   "id": "65704441",
   "metadata": {},
   "source": [
    "* & means \"AND\" → Both conditions must be met.\n",
    "* distance is between 1 and 5 (inclusive).\n",
    "\n",
    "**Note:**\n",
    "If you forget to use **&** properly, you'll get a syntax error\n",
    "\n",
    "---\n",
    "## Step 4: Using \"OR\" (|) in Queries\n",
    "Now, let's find rides where fare was either above $20 OR below $10."
   ]
  },
  {
   "cell_type": "code",
   "execution_count": null,
   "id": "c4d6cda2",
   "metadata": {},
   "outputs": [],
   "source": [
    "df2.query(\"fare > 20 | fare < 10\")\n"
   ]
  },
  {
   "attachments": {},
   "cell_type": "markdown",
   "id": "c4c3e26b",
   "metadata": {},
   "source": [
    "| means \"OR\" → At least one condition must be met.\n",
    "\n",
    "---\n",
    "## Step 5: Filtering Data Without `query()`\n",
    "Instead of using query(), we can filter data directly using brackets ([])."
   ]
  },
  {
   "cell_type": "code",
   "execution_count": null,
   "id": "ccb96795",
   "metadata": {},
   "outputs": [],
   "source": [
    "df2[df2[\"fare\"] > 20]  # Selects rows where fare > 20\n"
   ]
  },
  {
   "attachments": {},
   "cell_type": "markdown",
   "id": "df7981b6",
   "metadata": {},
   "source": [
    "This does the same thing as `df2.query(\"fare > 20\")`, but uses boolean indexing instead.\n",
    "\n",
    "---\n",
    "## Step 6: Filtering by Date Range\n",
    "Let's filter rides that happened between November 1, 2019, and January 31, 2020."
   ]
  },
  {
   "cell_type": "code",
   "execution_count": null,
   "id": "48b34900",
   "metadata": {},
   "outputs": [],
   "source": [
    "df2[(df2[\"fare\"] > 20) & \n",
    "    (df2[\"pickup\"] >= pd.to_datetime(\"2019-11-01\")) & \n",
    "    (df2[\"pickup\"] <= pd.to_datetime(\"2020-01-31\"))]\n"
   ]
  },
  {
   "attachments": {},
   "cell_type": "markdown",
   "id": "49604071",
   "metadata": {},
   "source": [
    "Why use `pd.to_datetime()?`\n",
    "Because pickup is stored as a datetime object, and we need to compare it correctly."
   ]
  },
  {
   "attachments": {},
   "cell_type": "markdown",
   "id": "3670504b",
   "metadata": {},
   "source": [
    "---\n",
    "# Saving Subsets of Data\n",
    "\n",
    "When working with large datasets, you often need to **save a filtered subset** for future use.  \n",
    "You can do this by creating either a **copy** or a **view**.\n",
    "\n",
    "---\n",
    "\n",
    "## Step 1: Copy vs. View – What's the Difference?\n",
    "\n",
    "### **Making a Copy (Recommended)**\n",
    "A **copy** creates a **new, independent dataset** that is **not linked** to the original DataFrame.\n"
   ]
  },
  {
   "cell_type": "code",
   "execution_count": null,
   "id": "1cf9be2a",
   "metadata": {},
   "outputs": [],
   "source": [
    "df_copy = df2[df2['fare'] > 20].copy()  # This is a copy"
   ]
  },
  {
   "attachments": {},
   "cell_type": "markdown",
   "id": "4c39f7c5",
   "metadata": {},
   "source": [
    "Changes to df_copy will NOT affect the original dataset (df2). This is the safest option when modifying data.\n",
    "\n",
    "---\n",
    "### **Using a View (Risky)**\n",
    "A view is just a reference to the original DataFrame.\n",
    "\n"
   ]
  },
  {
   "cell_type": "code",
   "execution_count": null,
   "id": "d37dc12b",
   "metadata": {},
   "outputs": [],
   "source": [
    "df_copy = df2[df2['fare'] > 20]  # This is a view\n"
   ]
  },
  {
   "attachments": {},
   "cell_type": "markdown",
   "id": "997c3b17",
   "metadata": {},
   "source": [
    "Changes to df_copy may also modify df2!\n",
    "Pandas might show a warning (SettingWithCopyWarning).\n",
    "Use .copy() if you are unsure!\n",
    "\n",
    "---\n",
    "\n",
    "## Step 2: Creating a Filtered Copy\n",
    "Let’s create a subset of taxi rides:\n",
    "\n",
    "* Fare > $20\n",
    "* Pickup between November 1, 2019, and January 31, 2020\n",
    "* Reset index after filtering"
   ]
  },
  {
   "cell_type": "code",
   "execution_count": null,
   "id": "138c81f3",
   "metadata": {},
   "outputs": [],
   "source": [
    "import pandas as pd\n",
    "\n",
    "df3 = df2[(df2[\"fare\"] > 20) & \n",
    "          (df2[\"pickup\"] >= pd.to_datetime(\"2019-11-01\")) & \n",
    "          (df2[\"pickup\"] <= pd.to_datetime(\"2020-01-31\"))].copy()  # Making a copy\n",
    "\n",
    "df3 = df3.reset_index()  # Reset index after filtering\n",
    "df3\n"
   ]
  },
  {
   "attachments": {},
   "cell_type": "markdown",
   "id": "d5b69755",
   "metadata": {},
   "source": [
    "---\n",
    "# Transforming Data\n",
    "\n",
    "Once you've loaded your data, you can **modify** it further by **adding new columns** or **transforming existing data**.\n",
    "\n",
    "For example, we might want to **calculate new values** based on existing ones.  \n",
    "Let's say we want to **calculate the average fare per passenger** and store it in a new column.\n",
    "\n",
    "---\n",
    "\n",
    "##  Step 1: Creating a New Column\n",
    "\n",
    "We can create a new column called **`avg_fare`** by dividing the **total fare** by the **number of passengers**.\n"
   ]
  },
  {
   "cell_type": "code",
   "execution_count": null,
   "id": "79c760d4",
   "metadata": {},
   "outputs": [],
   "source": [
    "df3['avg_fair']=df3['total']/df3['passengers']\n",
    "df3"
   ]
  },
  {
   "attachments": {},
   "cell_type": "markdown",
   "id": "1e84c008",
   "metadata": {},
   "source": [
    "This adds a new column to df3, where each row contains the average fare per passenger."
   ]
  },
  {
   "attachments": {},
   "cell_type": "markdown",
   "id": "fb227fa0",
   "metadata": {},
   "source": [
    "\n",
    "---\n",
    "## Exercises\n",
    "\n",
    "### **1. Subsetting Based on a Pickup Zone**\n",
    "Select all rows in `df2` where the **pickup zone** is `\"Lenox Hill East\"`.  \n",
    "Then, **find the number of rows** in this subset using the `.size` method.\n",
    "\n",
    "**Hint:** use the DataFrame.size command to find the size of the `df2`.\n",
    "\n",
    "### **2.  Experiment with Queries**\n",
    "Write a query to find **all rows where the number of passengers is greater than or equal to 2**.\n",
    "\n",
    "\n",
    "### **3.  Creating a Scatter Plot Based on Diet**\n",
    "In the **\"Python for Data Visualization\"** module, we created a scatter plot **colored by exercise type**.  \n",
    "Now, modify the visualization so that:\n",
    "- **X-axis** → Time spent exercising  \n",
    "- **Y-axis** → Heart rate  \n",
    "- **Points are colored by diet type**  \n",
    "\n",
    "Use **Matplotlib** and **Pandas** to create this scatter plot."
   ]
  },
  {
   "attachments": {},
   "cell_type": "markdown",
   "id": "e8d0d994",
   "metadata": {},
   "source": [
    "## Further Reading and Reference Material"
   ]
  },
  {
   "attachments": {},
   "cell_type": "markdown",
   "id": "7f19ce6c",
   "metadata": {},
   "source": [
    "We've only just started to scratch the surface of Matplotlib and Pandas, but we're going to rapidly expand our skillset for the purposes of visualisation in the coming Modules. In the meantime both Libraries have extensive online guides ([Pandas](https://pandas.pydata.org/docs/user_guide/index.html) and [Matplotlib](https://matplotlib.org/stable/index.html)).\n",
    "\n",
    "Helpful 'cheat sheets' have also been created for both Libraries, which you can access for Matplotlib [here](https://matplotlib.org/cheatsheets/) and Pandas [here](https://pandas.pydata.org/Pandas_Cheat_Sheet.pdf).\n"
   ]
  }
 ],
 "metadata": {
  "kernelspec": {
   "display_name": "Python 3 (ipykernel)",
   "language": "python",
   "name": "python3"
  },
  "language_info": {
   "codemirror_mode": {
    "name": "ipython",
    "version": 3
   },
   "file_extension": ".py",
   "mimetype": "text/x-python",
   "name": "python",
   "nbconvert_exporter": "python",
   "pygments_lexer": "ipython3",
   "version": "3.11.11"
  }
 },
 "nbformat": 4,
 "nbformat_minor": 5
}
