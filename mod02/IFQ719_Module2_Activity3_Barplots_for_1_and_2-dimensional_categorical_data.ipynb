{
 "cells": [
  {
   "attachments": {},
   "cell_type": "markdown",
   "id": "2548c1d3",
   "metadata": {},
   "source": [
    "# Module 2, Activity 3: Barplots for 1 and 2-Dimensional Categorical Data\n",
    "\n",
    "Barplots are extremely useful **visualization tools** for representing **categorical data**.  \n",
    "They help summarize and compare values across different categories.\n",
    "\n",
    "In this activity, we'll explore:\n",
    "- **1D Barplots** → Simple bar charts for a single categorical variable.\n",
    "- **2D Barplots** → Grouped bar charts to compare multiple categorical variables.\n",
    "\n",
    "We'll use **Pandas** to generate these plots with **built-in plotting functions**, which rely on Matplotlib.\n",
    "\n",
    "🔗 More on Pandas bar plots: [built-in Pandas plot calls](https://pandas.pydata.org/docs/reference/api/pandas.DataFrame.plot.html)\n",
    "\n",
    "---\n",
    "\n",
    "## Setup\n",
    "\n",
    "Before creating barplots, we need to:\n",
    "- Import necessary libraries\n",
    "- Load the taxis dataset 🚖\n",
    "- Convert date columns to the correct format\n"
   ]
  },
  {
   "cell_type": "code",
   "execution_count": null,
   "id": "4dbd8845",
   "metadata": {},
   "outputs": [],
   "source": [
    "# Import necessary libraries\n",
    "import matplotlib.pyplot as plt\n",
    "import matplotlib\n",
    "import seaborn as sns\n",
    "import pandas as pd\n",
    "import numpy as np\n",
    "import datetime as dt\n",
    "\n",
    "# Load dataset\n",
    "df = pd.read_csv(\"data/taxis.csv\")\n",
    "\n",
    "# Convert pickup & dropoff times to datetime format\n",
    "df[\"pickup\"] = pd.to_datetime(df[\"pickup\"], dayfirst=True)\n",
    "df[\"dropoff\"] = pd.to_datetime(df[\"dropoff\"], dayfirst=True)\n",
    "\n",
    "# Display first few rows to inspect the data\n",
    "df.head()"
   ]
  },
  {
   "attachments": {},
   "cell_type": "markdown",
   "id": "e75de333",
   "metadata": {},
   "source": [
    "Before plotting, it's important to check that all columns are in the correct format."
   ]
  },
  {
   "cell_type": "code",
   "execution_count": null,
   "id": "bdb2ac83",
   "metadata": {},
   "outputs": [],
   "source": [
    "df.dtypes"
   ]
  },
  {
   "attachments": {},
   "cell_type": "markdown",
   "id": "7c95eb10",
   "metadata": {},
   "source": [
    "---\n",
    "# Boxplots for 1D Categorical Data"
   ]
  },
  {
   "attachments": {},
   "cell_type": "markdown",
   "id": "853994d5",
   "metadata": {},
   "source": [
    "Let's start with a simple boxplot to explore the difference in the number of people using cash or credit card to pay for their taxi fare.\n",
    "\n",
    "Remember that we use boxplots to visualise the number of observations in our dataset from different categories. So first, we need to use some Pandas magic to build a data frame which gives us the total number of people who use cash or credit card. \n",
    "\n",
    "---\n",
    "\n",
    "##  Step 1: Grouping Data by Payment Method\n",
    "\n",
    "First, we use the **groupby** call, to group our the df dataset by payment. But, we also need to tell Python what we want to extract from this call. Since we want the number of people in each payment group, we do this by calling **size()**"
   ]
  },
  {
   "cell_type": "code",
   "execution_count": null,
   "id": "d598fdb7",
   "metadata": {},
   "outputs": [],
   "source": [
    "# Group data by payment method and count occurrences\n",
    "df_table = df.groupby(['payment']).size()\n",
    "\n",
    "# Display the table\n",
    "df_table"
   ]
  },
  {
   "attachments": {},
   "cell_type": "markdown",
   "id": "cb477989",
   "metadata": {},
   "source": [
    "---\n",
    "## Step 2: Formatting the Table for a DataFrame\n",
    "\n",
    "We now have a table structure called `df_table`, that gives the count of people by payment. So far so good. \n",
    "To make this data easier to work with, we will:\n",
    "1. Convert it to a Pandas DataFrame\n",
    "2. Reset the index so payment type becomes a column\n",
    "3. Rename the count column to \"counts\""
   ]
  },
  {
   "cell_type": "code",
   "execution_count": null,
   "id": "0e4f64f2",
   "metadata": {},
   "outputs": [],
   "source": [
    "# Convert table into a DataFrame and reset index\n",
    "df_frame = df_table.reset_index()\n",
    "\n",
    "# Rename count column from 0 to 'counts'\n",
    "df_frame = df_frame.rename({0: 'counts'}, axis=1)\n",
    "\n",
    "# Display the formatted DataFrame\n",
    "df_frame\n"
   ]
  },
  {
   "attachments": {},
   "cell_type": "markdown",
   "id": "405e5c02",
   "metadata": {},
   "source": [
    "Now, `df_frame` contains two columns:\n",
    "\n",
    "\"payment\" → The type of payment method\n",
    "\"counts\" → The number of people who used each method\n",
    "\n",
    "---\n",
    "## Step 3: Creating a Simple Barplot\n",
    "We can now create a barplot using Pandas' built-in plotting function:"
   ]
  },
  {
   "cell_type": "code",
   "execution_count": null,
   "id": "b007a515",
   "metadata": {},
   "outputs": [],
   "source": [
    "df_frame.plot(x=\"payment\", y = \"counts\", kind = \"bar\", rot = 0)\n",
    "plt.show()"
   ]
  },
  {
   "attachments": {},
   "cell_type": "markdown",
   "id": "09f50a26",
   "metadata": {},
   "source": [
    "* `x=\"payment\"` → Sets the x-axis to the payment types\n",
    "* `y=\"counts\"` → Uses the number of people as the y-axis\n",
    "* `kind=\"bar\"` → Specifies that we want a barplot\n",
    "* `rot=0` → Ensures x-axis labels remain horizontal\n",
    "\n",
    "---\n",
    "\n",
    "## Step 4: Customizing the Barplot with Pyplot\n",
    "Since Pandas' `plot()` is built on Matplotlib, we can use Pyplot to customize it further.\n",
    "\n",
    "**Note:** We imported Pyplot from Matplotlib as **plt** in step 1."
   ]
  },
  {
   "cell_type": "code",
   "execution_count": null,
   "id": "de7060d7",
   "metadata": {},
   "outputs": [],
   "source": [
    "df_frame.plot(x=\"payment\", y=\"counts\", kind=\"bar\", rot=0)\n",
    "\n",
    "# Add axis labels and title\n",
    "plt.xlabel(\"Payment Type\")\n",
    "plt.title(\"Credit Card is the Most \\n Popular Payment Method\")\n",
    "\n",
    "# Show the plot\n",
    "plt.show()"
   ]
  },
  {
   "attachments": {},
   "cell_type": "markdown",
   "id": "81c763ef",
   "metadata": {},
   "source": [
    "---\n",
    "### Exercises:\n",
    "1. **Add a y-axis label** to the barplot using `plt.ylabel()`.  \n",
    "   Refer to the [Matplotlib ylabel documentation](https://matplotlib.org/stable/api/_as_gen/matplotlib.pyplot.ylabel.html) for help.\n",
    "\n",
    "2. **Tidy up the x-axis labels**:  \n",
    "   - Use `plt.xticks()` to modify the labels.  \n",
    "   - Change **'cash'** to **'Cash'** and **'credit card'** to **'Credit Card'**.  \n",
    "   Refer to the [Matplotlib xticks documentation](https://matplotlib.org/stable/api/_as_gen/matplotlib.pyplot.xticks.html) for help.\n"
   ]
  },
  {
   "attachments": {},
   "cell_type": "markdown",
   "id": "0cca0b9e",
   "metadata": {},
   "source": [
    "What if we want to order the bars from largest to smallest?\n",
    "\n",
    "Modify `df_frame` so that the payment method with the most users appears first in the barplot."
   ]
  },
  {
   "cell_type": "code",
   "execution_count": null,
   "id": "9b0e57ca",
   "metadata": {},
   "outputs": [],
   "source": [
    "# Sort the DataFrame by 'counts' in descending order\n",
    "df_asce = df_frame.sort_values(by=\"counts\", ascending=False)"
   ]
  },
  {
   "attachments": {},
   "cell_type": "markdown",
   "id": "00902e90",
   "metadata": {},
   "source": [
    "Then we can plot:"
   ]
  },
  {
   "cell_type": "code",
   "execution_count": null,
   "id": "8ac91ed9",
   "metadata": {},
   "outputs": [],
   "source": [
    "# Plot the sorted barplot\n",
    "df_asce.plot(x=\"payment\", y=\"counts\", kind=\"bar\", rot=0)\n",
    "\n",
    "plt.xlabel(\"Payment Type\")\n",
    "plt.title(\"Credit Card is the Most \\n Popular Payment Method\")\n",
    "\n",
    "plt.show()"
   ]
  },
  {
   "attachments": {},
   "cell_type": "markdown",
   "id": "e14e12b7",
   "metadata": {},
   "source": [
    "Now, let's check if the payment method trend is the same across all boroughs.\n",
    "\n",
    "Group the dataset by pickup_borough and payment to count the number of people in each combination."
   ]
  },
  {
   "cell_type": "code",
   "execution_count": null,
   "id": "3eea6370",
   "metadata": {},
   "outputs": [],
   "source": [
    "df_table = df.groupby(['pickup_borough', 'payment']).size().reset_index()\n",
    "\n",
    "df_table"
   ]
  },
  {
   "attachments": {},
   "cell_type": "markdown",
   "id": "eedac9ba",
   "metadata": {},
   "source": [
    "We have one more step before we can use this data. We want to pivot our dataset from long-form, to wide-form. We use the `.pivot()`call to do this, where we specify the variable names for columns, rows (index) and the values in the cells. "
   ]
  },
  {
   "cell_type": "code",
   "execution_count": null,
   "id": "b5d7ec73",
   "metadata": {},
   "outputs": [],
   "source": [
    "df_frame2 = df_table.pivot(columns='payment', index='pickup_borough', values=0)\n",
    "df_frame2"
   ]
  },
  {
   "attachments": {},
   "cell_type": "markdown",
   "id": "d66cbad6",
   "metadata": {},
   "source": [
    "Plot a grouped barplot, where:\n",
    "\n",
    "* X-axis → Pickup boroughs\n",
    "* Bars → Payment method categories\n",
    "* Different colors represent payment methods"
   ]
  },
  {
   "cell_type": "code",
   "execution_count": null,
   "id": "0e2b67d6",
   "metadata": {},
   "outputs": [],
   "source": [
    "# Create a grouped barplot\n",
    "df_frame2.plot(kind=\"bar\", rot=0)\n",
    "\n",
    "# Show plot\n",
    "plt.show()\n"
   ]
  },
  {
   "attachments": {},
   "cell_type": "markdown",
   "id": "b27de462",
   "metadata": {},
   "source": [
    "---\n",
    "### Exercise:\n",
    "\n",
    "Modify the above command to transpose `df_frame2`, so the rows are payment type and columns are pickup boroughs. Plot the transposed dataframe as a grouped barplot. Using Matplotlib's Pyplot command, neaten the x-axis and tick labels as required, and give the plot a title."
   ]
  },
  {
   "attachments": {},
   "cell_type": "markdown",
   "id": "ccfd9a2b",
   "metadata": {},
   "source": [
    "We can easily stack these bars as well, if we're interested in comparing the size of all observations by pickup borough, and we still want to see the different payment types."
   ]
  },
  {
   "cell_type": "code",
   "execution_count": null,
   "id": "6587f07f",
   "metadata": {},
   "outputs": [],
   "source": [
    "df_frame2.plot(kind = \"bar\", rot = 0, stacked = True)\n",
    "plt.show()"
   ]
  },
  {
   "attachments": {},
   "cell_type": "markdown",
   "id": "3e5f8a1f",
   "metadata": {},
   "source": [
    "---\n",
    "\n",
    "### Exercise: \n",
    "\n",
    "Generate a table of counts for two variables other than pickup borough and payment, and generate grouped and stacked barplots of the variables."
   ]
  },
  {
   "attachments": {},
   "cell_type": "markdown",
   "id": "790b05f3",
   "metadata": {},
   "source": [
    "It's hard to see the relative difference in payment type between each group in the figure above - the Bronx might have the same payment composition as Manhattan, but we wouldn't know. To see this, we need a stacked percentage plot. Again, we need to transform our data with a little bit with some Pandas calls, so we have the percentage of all payments that were either cash or credit card in each pickup borough. We'll leave it to you to generate this final figure, using what you've learned so far, in the Exercises below."
   ]
  },
  {
   "cell_type": "code",
   "execution_count": null,
   "id": "04b3813c",
   "metadata": {},
   "outputs": [],
   "source": [
    "df_rel = df_frame2.apply(lambda x: x*100/sum(x), axis=1)\n",
    "df_rel"
   ]
  },
  {
   "attachments": {},
   "cell_type": "markdown",
   "id": "9109b200",
   "metadata": {},
   "source": [
    "---\n",
    "\n",
    "### Exercise:\n",
    "1) In your own words, explain what the apply function is doing in the above command. What would you need to change to the above command if you wanted the percentage of all cash payments in Brooklyn?\\\n",
    "2) Using df_rel and what we have learned so far, generate a stacked barplot of the percentage of all payments that were either cash or credit card in each pickup borough. Which borough has the highest percentage of cash payments?"
   ]
  },
  {
   "attachments": {},
   "cell_type": "markdown",
   "id": "218f758c",
   "metadata": {},
   "source": [
    "---\n",
    "# Barplots with Seaborn\n",
    "\n",
    "Seaborn is a **wrapper around both Matplotlib (for visualization) and Pandas (for data manipulation)**.  \n",
    "It provides an easier and more powerful way to create **barplots** compared to using Matplotlib directly.\n",
    "\n",
    "### **Why Use Seaborn?**\n",
    "* **Less manual coding** – Seaborn automatically counts and groups data  \n",
    "* **Better styling** – Uses aesthetically pleasing default themes  \n",
    "* **Simplifies categorical plots** – `countplot()` works directly on DataFrames  "
   ]
  },
  {
   "attachments": {},
   "cell_type": "markdown",
   "id": "c6fc4b9b",
   "metadata": {},
   "source": [
    "### Exercise: \n",
    "Work through the example code for Seaborn's countplot function, available [here](https://seaborn.pydata.org/generated/seaborn.countplot.html), using the taxis dataset you've loaded and prepared for this Module."
   ]
  },
  {
   "cell_type": "code",
   "execution_count": null,
   "id": "7650cdc0-0097-440c-bb62-6a7f01ab2a18",
   "metadata": {},
   "outputs": [],
   "source": []
  }
 ],
 "metadata": {
  "kernelspec": {
   "display_name": "Python 3 (ipykernel)",
   "language": "python",
   "name": "python3"
  },
  "language_info": {
   "codemirror_mode": {
    "name": "ipython",
    "version": 3
   },
   "file_extension": ".py",
   "mimetype": "text/x-python",
   "name": "python",
   "nbconvert_exporter": "python",
   "pygments_lexer": "ipython3",
   "version": "3.11.11"
  }
 },
 "nbformat": 4,
 "nbformat_minor": 5
}
