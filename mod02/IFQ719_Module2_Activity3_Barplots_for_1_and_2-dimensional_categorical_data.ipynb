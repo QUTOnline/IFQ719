{
 "cells": [
  {
   "cell_type": "markdown",
   "id": "61861074",
   "metadata": {},
   "source": [
    "# Module 2, Activity 3: Barplots for 1 and 2-Dimensional Categorical Data"
   ]
  },
  {
   "cell_type": "markdown",
   "id": "a4969f50",
   "metadata": {},
   "source": [
    "Barplots are extremely useful visualisation tools for 1 and 2-dimensional categorical data. As we've seen, data with mixed attributes (integers, strings, datetime objects) can be manipulated in Python using the Pandas library. But Pandas also has plotting capabilities (built upon Matplotlib) Here, we're going to use [built-in Pandas plot calls](https://pandas.pydata.org/docs/reference/api/pandas.DataFrame.plot.bar.html) to generate different kinds of barplots."
   ]
  },
  {
   "cell_type": "markdown",
   "id": "bef4e6d6",
   "metadata": {},
   "source": [
    "## Setup"
   ]
  },
  {
   "cell_type": "markdown",
   "id": "c9a58ef2",
   "metadata": {},
   "source": [
    "Let's first load the libraries we will need and the taxis dataset. Note again that we have needed to specify the format of the pickup and dropoff times to be in the 'datetime' format. You should always check your columns are in the required format before starting to make visualisations."
   ]
  },
  {
   "cell_type": "code",
   "execution_count": 9,
   "id": "ba6e44ed",
   "metadata": {},
   "outputs": [
    {
     "data": {
      "text/html": [
       "<div>\n",
       "<style scoped>\n",
       "    .dataframe tbody tr th:only-of-type {\n",
       "        vertical-align: middle;\n",
       "    }\n",
       "\n",
       "    .dataframe tbody tr th {\n",
       "        vertical-align: top;\n",
       "    }\n",
       "\n",
       "    .dataframe thead th {\n",
       "        text-align: right;\n",
       "    }\n",
       "</style>\n",
       "<table border=\"1\" class=\"dataframe\">\n",
       "  <thead>\n",
       "    <tr style=\"text-align: right;\">\n",
       "      <th></th>\n",
       "      <th>pickup</th>\n",
       "      <th>dropoff</th>\n",
       "      <th>passengers</th>\n",
       "      <th>distance</th>\n",
       "      <th>fare</th>\n",
       "      <th>tip</th>\n",
       "      <th>tolls</th>\n",
       "      <th>total</th>\n",
       "      <th>color</th>\n",
       "      <th>payment</th>\n",
       "      <th>pickup_zone</th>\n",
       "      <th>dropoff_zone</th>\n",
       "      <th>pickup_borough</th>\n",
       "      <th>dropoff_borough</th>\n",
       "    </tr>\n",
       "  </thead>\n",
       "  <tbody>\n",
       "    <tr>\n",
       "      <th>0</th>\n",
       "      <td>2019-03-23 20:21:00</td>\n",
       "      <td>2019-03-23 20:27:00</td>\n",
       "      <td>1</td>\n",
       "      <td>1.60</td>\n",
       "      <td>7.0</td>\n",
       "      <td>2.15</td>\n",
       "      <td>0.0</td>\n",
       "      <td>12.95</td>\n",
       "      <td>yellow</td>\n",
       "      <td>credit card</td>\n",
       "      <td>Lenox Hill West</td>\n",
       "      <td>UN/Turtle Bay South</td>\n",
       "      <td>Manhattan</td>\n",
       "      <td>Manhattan</td>\n",
       "    </tr>\n",
       "    <tr>\n",
       "      <th>1</th>\n",
       "      <td>2019-03-04 16:11:00</td>\n",
       "      <td>2019-03-04 16:19:00</td>\n",
       "      <td>1</td>\n",
       "      <td>0.79</td>\n",
       "      <td>5.0</td>\n",
       "      <td>0.00</td>\n",
       "      <td>0.0</td>\n",
       "      <td>9.30</td>\n",
       "      <td>yellow</td>\n",
       "      <td>cash</td>\n",
       "      <td>Upper West Side South</td>\n",
       "      <td>Upper West Side South</td>\n",
       "      <td>Manhattan</td>\n",
       "      <td>Manhattan</td>\n",
       "    </tr>\n",
       "    <tr>\n",
       "      <th>2</th>\n",
       "      <td>2019-03-27 17:53:00</td>\n",
       "      <td>2019-03-27 18:00:00</td>\n",
       "      <td>1</td>\n",
       "      <td>1.37</td>\n",
       "      <td>7.5</td>\n",
       "      <td>2.36</td>\n",
       "      <td>0.0</td>\n",
       "      <td>14.16</td>\n",
       "      <td>yellow</td>\n",
       "      <td>credit card</td>\n",
       "      <td>Alphabet City</td>\n",
       "      <td>West Village</td>\n",
       "      <td>Manhattan</td>\n",
       "      <td>Manhattan</td>\n",
       "    </tr>\n",
       "    <tr>\n",
       "      <th>3</th>\n",
       "      <td>2019-03-10 01:23:00</td>\n",
       "      <td>2019-03-10 01:49:00</td>\n",
       "      <td>1</td>\n",
       "      <td>7.70</td>\n",
       "      <td>27.0</td>\n",
       "      <td>6.15</td>\n",
       "      <td>0.0</td>\n",
       "      <td>36.95</td>\n",
       "      <td>yellow</td>\n",
       "      <td>credit card</td>\n",
       "      <td>Hudson Sq</td>\n",
       "      <td>Yorkville West</td>\n",
       "      <td>Manhattan</td>\n",
       "      <td>Manhattan</td>\n",
       "    </tr>\n",
       "    <tr>\n",
       "      <th>4</th>\n",
       "      <td>2019-03-30 13:27:00</td>\n",
       "      <td>2019-03-30 13:37:00</td>\n",
       "      <td>3</td>\n",
       "      <td>2.16</td>\n",
       "      <td>9.0</td>\n",
       "      <td>1.10</td>\n",
       "      <td>0.0</td>\n",
       "      <td>13.40</td>\n",
       "      <td>yellow</td>\n",
       "      <td>credit card</td>\n",
       "      <td>Midtown East</td>\n",
       "      <td>Yorkville West</td>\n",
       "      <td>Manhattan</td>\n",
       "      <td>Manhattan</td>\n",
       "    </tr>\n",
       "  </tbody>\n",
       "</table>\n",
       "</div>"
      ],
      "text/plain": [
       "               pickup             dropoff  passengers  distance  fare   tip  \\\n",
       "0 2019-03-23 20:21:00 2019-03-23 20:27:00           1      1.60   7.0  2.15   \n",
       "1 2019-03-04 16:11:00 2019-03-04 16:19:00           1      0.79   5.0  0.00   \n",
       "2 2019-03-27 17:53:00 2019-03-27 18:00:00           1      1.37   7.5  2.36   \n",
       "3 2019-03-10 01:23:00 2019-03-10 01:49:00           1      7.70  27.0  6.15   \n",
       "4 2019-03-30 13:27:00 2019-03-30 13:37:00           3      2.16   9.0  1.10   \n",
       "\n",
       "   tolls  total   color      payment            pickup_zone  \\\n",
       "0    0.0  12.95  yellow  credit card        Lenox Hill West   \n",
       "1    0.0   9.30  yellow         cash  Upper West Side South   \n",
       "2    0.0  14.16  yellow  credit card          Alphabet City   \n",
       "3    0.0  36.95  yellow  credit card              Hudson Sq   \n",
       "4    0.0  13.40  yellow  credit card           Midtown East   \n",
       "\n",
       "            dropoff_zone pickup_borough dropoff_borough  \n",
       "0    UN/Turtle Bay South      Manhattan       Manhattan  \n",
       "1  Upper West Side South      Manhattan       Manhattan  \n",
       "2           West Village      Manhattan       Manhattan  \n",
       "3         Yorkville West      Manhattan       Manhattan  \n",
       "4         Yorkville West      Manhattan       Manhattan  "
      ]
     },
     "execution_count": 9,
     "metadata": {},
     "output_type": "execute_result"
    }
   ],
   "source": [
    "# import packages/libraries\n",
    "import matplotlib.pyplot as plt\n",
    "import matplotlib\n",
    "import seaborn as sns\n",
    "import pandas as pd\n",
    "import numpy as np\n",
    "import datetime as dt\n",
    "\n",
    "# load (and optionally format) dataset\n",
    "df = pd.read_csv(\"data/taxis.csv\")\n",
    "df[\"pickup\"] = pd.to_datetime(df[\"pickup\"])\n",
    "df[\"dropoff\"] = pd.to_datetime(df[\"dropoff\"])\n",
    "df.head()"
   ]
  },
  {
   "cell_type": "code",
   "execution_count": 10,
   "id": "9afbf50a",
   "metadata": {},
   "outputs": [
    {
     "data": {
      "text/plain": [
       "pickup             datetime64[ns]\n",
       "dropoff            datetime64[ns]\n",
       "passengers                  int64\n",
       "distance                  float64\n",
       "fare                      float64\n",
       "tip                       float64\n",
       "tolls                     float64\n",
       "total                     float64\n",
       "color                      object\n",
       "payment                    object\n",
       "pickup_zone                object\n",
       "dropoff_zone               object\n",
       "pickup_borough             object\n",
       "dropoff_borough            object\n",
       "dtype: object"
      ]
     },
     "execution_count": 10,
     "metadata": {},
     "output_type": "execute_result"
    }
   ],
   "source": [
    "df.dtypes"
   ]
  },
  {
   "cell_type": "markdown",
   "id": "1f1639a9",
   "metadata": {},
   "source": [
    "## Boxplots for 1D Categorical Data"
   ]
  },
  {
   "cell_type": "markdown",
   "id": "22a75569",
   "metadata": {},
   "source": [
    "Let's start with a simple boxplot to explore the difference in the number of people using cash or credit card to pay for their taxi fare.\n",
    "\n",
    "Remember that we use boxplots to visualise the number of observations in our dataset from different categories. So first, we need to use some Pandas magic to build a data frame which gives us the total number of people who use cash or credit card. First, we use the **groupby** call, to group our the df dataset by payment. But, we also need to tell Python what we want to extract from this call. More information about **groupby** can be found [here](https://pandas.pydata.org/docs/reference/api/pandas.DataFrame.groupby.html). Since we want the number of people in each payment group, we do this by calling **size()**"
   ]
  },
  {
   "cell_type": "code",
   "execution_count": 11,
   "id": "d92d8b5a",
   "metadata": {},
   "outputs": [
    {
     "data": {
      "text/plain": [
       "payment\n",
       "cash           1812\n",
       "credit card    4577\n",
       "dtype: int64"
      ]
     },
     "execution_count": 11,
     "metadata": {},
     "output_type": "execute_result"
    }
   ],
   "source": [
    "df_table = df.groupby(['payment']).size()\n",
    "\n",
    "df_table"
   ]
  },
  {
   "cell_type": "markdown",
   "id": "bbe92643",
   "metadata": {},
   "source": [
    "We now have a table structure calleddf_table, that gives the count of people by payment. So far so good. Now, we need to reshape this table into a dataframe where we have a column for payment type, and another column with the number of people in each payment type. To do this, we need to call **reset_index**, which formats our table into a Pandas dataframe. Then, we need to rename our count column, from 0 to 'counts'."
   ]
  },
  {
   "cell_type": "code",
   "execution_count": 12,
   "id": "f812e186",
   "metadata": {},
   "outputs": [
    {
     "data": {
      "text/html": [
       "<div>\n",
       "<style scoped>\n",
       "    .dataframe tbody tr th:only-of-type {\n",
       "        vertical-align: middle;\n",
       "    }\n",
       "\n",
       "    .dataframe tbody tr th {\n",
       "        vertical-align: top;\n",
       "    }\n",
       "\n",
       "    .dataframe thead th {\n",
       "        text-align: right;\n",
       "    }\n",
       "</style>\n",
       "<table border=\"1\" class=\"dataframe\">\n",
       "  <thead>\n",
       "    <tr style=\"text-align: right;\">\n",
       "      <th></th>\n",
       "      <th>payment</th>\n",
       "      <th>counts</th>\n",
       "    </tr>\n",
       "  </thead>\n",
       "  <tbody>\n",
       "    <tr>\n",
       "      <th>0</th>\n",
       "      <td>cash</td>\n",
       "      <td>1812</td>\n",
       "    </tr>\n",
       "    <tr>\n",
       "      <th>1</th>\n",
       "      <td>credit card</td>\n",
       "      <td>4577</td>\n",
       "    </tr>\n",
       "  </tbody>\n",
       "</table>\n",
       "</div>"
      ],
      "text/plain": [
       "       payment  counts\n",
       "0         cash    1812\n",
       "1  credit card    4577"
      ]
     },
     "execution_count": 12,
     "metadata": {},
     "output_type": "execute_result"
    }
   ],
   "source": [
    "df_frame = df_table.reset_index()\n",
    "df_frame = df_frame.rename({0: 'counts'}, axis=1) \n",
    "df_frame"
   ]
  },
  {
   "cell_type": "markdown",
   "id": "1807dddb",
   "metadata": {},
   "source": [
    "We can now build or first barplot:"
   ]
  },
  {
   "cell_type": "code",
   "execution_count": 13,
   "id": "416ef8fb",
   "metadata": {},
   "outputs": [
    {
     "data": {
      "image/png": "[encoded data removed]",
      "text/plain": [
       "<Figure size 432x288 with 1 Axes>"
      ]
     },
     "metadata": {
      "needs_background": "light"
     },
     "output_type": "display_data"
    }
   ],
   "source": [
    "df_frame.plot(x=\"payment\", y = \"counts\", kind = \"bar\", rot = 0)\n",
    "plt.show()"
   ]
  },
  {
   "cell_type": "markdown",
   "id": "4d0ac9d9",
   "metadata": {},
   "source": [
    "Since Pandas.plot is built on Matplotlib, we can use Matplotlib's Pyplot to change our graph. We imported Pyplot from Matplotlib as **plt** at the beginning of these activities. Using Pyplot, let's add axis labels and a title:"
   ]
  },
  {
   "cell_type": "code",
   "execution_count": 14,
   "id": "001d4213",
   "metadata": {},
   "outputs": [
    {
     "data": {
      "image/png": "[encoded data removed]",
      "text/plain": [
       "<Figure size 432x288 with 1 Axes>"
      ]
     },
     "metadata": {
      "needs_background": "light"
     },
     "output_type": "display_data"
    }
   ],
   "source": [
    "df_frame.plot(x=\"payment\", y = \"counts\", kind = \"bar\", rot = 0)\n",
    "plt.xlabel(\"Payment Type\")\n",
    "plt.title(\"Credit Card is the most \\n popular payment method\")\n",
    "plt.show()"
   ]
  },
  {
   "cell_type": "markdown",
   "id": "ce7a80d8",
   "metadata": {},
   "source": [
    "Here, we're calling a Pandas plot, using df_frame to source data, where our x-axis is payment type, our y-axis is the number of people in each payment group, and the kind of plot we're calling is a barplot. The final argument 'rot = 0' tells the function the angle that we want to rotate our x-axis labels."
   ]
  },
  {
   "cell_type": "markdown",
   "id": "e203643b",
   "metadata": {},
   "source": [
    "**Exercises:**\n",
    "1) Using pyplot, add a y-axis label to the barplot above. Use the [plt.ylabel help page](https://matplotlib.org/stable/api/_as_gen/matplotlib.pyplot.ylabel.html) for help. \\\n",
    "2) Let's neaten up the tick labels on the x-axis. Using the [plt.xticks help page](https://matplotlib.org/stable/api/_as_gen/matplotlib.pyplot.xticks.html) as a starting point, change the tick labels on the x-axis from 'cash' and 'credit card' to 'Cash' and 'Credit Card'."
   ]
  },
  {
   "cell_type": "markdown",
   "id": "eaf81937",
   "metadata": {},
   "source": [
    "What if we want to order the bars from largest to smallest? Then, we'd want the cash bar to go first. First, we would need to change the order of **df_frame**"
   ]
  },
  {
   "cell_type": "code",
   "execution_count": 108,
   "id": "52f56e78",
   "metadata": {},
   "outputs": [
    {
     "data": {
      "text/html": [
       "<div>\n",
       "<style scoped>\n",
       "    .dataframe tbody tr th:only-of-type {\n",
       "        vertical-align: middle;\n",
       "    }\n",
       "\n",
       "    .dataframe tbody tr th {\n",
       "        vertical-align: top;\n",
       "    }\n",
       "\n",
       "    .dataframe thead th {\n",
       "        text-align: right;\n",
       "    }\n",
       "</style>\n",
       "<table border=\"1\" class=\"dataframe\">\n",
       "  <thead>\n",
       "    <tr style=\"text-align: right;\">\n",
       "      <th></th>\n",
       "      <th>payment</th>\n",
       "      <th>counts</th>\n",
       "    </tr>\n",
       "  </thead>\n",
       "  <tbody>\n",
       "    <tr>\n",
       "      <th>1</th>\n",
       "      <td>credit card</td>\n",
       "      <td>4577</td>\n",
       "    </tr>\n",
       "    <tr>\n",
       "      <th>0</th>\n",
       "      <td>cash</td>\n",
       "      <td>1812</td>\n",
       "    </tr>\n",
       "  </tbody>\n",
       "</table>\n",
       "</div>"
      ],
      "text/plain": [
       "       payment  counts\n",
       "1  credit card    4577\n",
       "0         cash    1812"
      ]
     },
     "execution_count": 108,
     "metadata": {},
     "output_type": "execute_result"
    }
   ],
   "source": [
    "df_asce = df_frame.sort_values(by = 'counts', ascending = False)\n",
    "df_asce"
   ]
  },
  {
   "cell_type": "markdown",
   "id": "6336e32f",
   "metadata": {},
   "source": [
    "Then we can plot:"
   ]
  },
  {
   "cell_type": "code",
   "execution_count": 110,
   "id": "dbc489b2",
   "metadata": {},
   "outputs": [
    {
     "data": {
      "image/png": "[encoded data removed]",
      "text/plain": [
       "<Figure size 432x288 with 1 Axes>"
      ]
     },
     "metadata": {
      "needs_background": "light"
     },
     "output_type": "display_data"
    }
   ],
   "source": [
    "df_asce.plot(x=\"payment\", y = \"counts\", kind = \"bar\", rot = 0)\n",
    "plt.xlabel(\"Payment Type\")\n",
    "plt.title(\"Credit Card is the most \\n popular payment method\")\n",
    "plt.show()"
   ]
  },
  {
   "cell_type": "markdown",
   "id": "6127fa8f",
   "metadata": {},
   "source": [
    "Do we see this same trend across all boroughs? Let's plot a grouped barplot, we're pickup borough is distinguished by colour. To do that, we need a new dataframe, one which gives us the number of people by payment type and pick up borough:"
   ]
  },
  {
   "cell_type": "code",
   "execution_count": 111,
   "id": "88e284cc",
   "metadata": {},
   "outputs": [
    {
     "data": {
      "text/html": [
       "<div>\n",
       "<style scoped>\n",
       "    .dataframe tbody tr th:only-of-type {\n",
       "        vertical-align: middle;\n",
       "    }\n",
       "\n",
       "    .dataframe tbody tr th {\n",
       "        vertical-align: top;\n",
       "    }\n",
       "\n",
       "    .dataframe thead th {\n",
       "        text-align: right;\n",
       "    }\n",
       "</style>\n",
       "<table border=\"1\" class=\"dataframe\">\n",
       "  <thead>\n",
       "    <tr style=\"text-align: right;\">\n",
       "      <th></th>\n",
       "      <th>pickup_borough</th>\n",
       "      <th>payment</th>\n",
       "      <th>0</th>\n",
       "    </tr>\n",
       "  </thead>\n",
       "  <tbody>\n",
       "    <tr>\n",
       "      <th>0</th>\n",
       "      <td>Bronx</td>\n",
       "      <td>cash</td>\n",
       "      <td>25</td>\n",
       "    </tr>\n",
       "    <tr>\n",
       "      <th>1</th>\n",
       "      <td>Bronx</td>\n",
       "      <td>credit card</td>\n",
       "      <td>74</td>\n",
       "    </tr>\n",
       "    <tr>\n",
       "      <th>2</th>\n",
       "      <td>Brooklyn</td>\n",
       "      <td>cash</td>\n",
       "      <td>119</td>\n",
       "    </tr>\n",
       "    <tr>\n",
       "      <th>3</th>\n",
       "      <td>Brooklyn</td>\n",
       "      <td>credit card</td>\n",
       "      <td>261</td>\n",
       "    </tr>\n",
       "    <tr>\n",
       "      <th>4</th>\n",
       "      <td>Manhattan</td>\n",
       "      <td>cash</td>\n",
       "      <td>1397</td>\n",
       "    </tr>\n",
       "    <tr>\n",
       "      <th>5</th>\n",
       "      <td>Manhattan</td>\n",
       "      <td>credit card</td>\n",
       "      <td>3839</td>\n",
       "    </tr>\n",
       "    <tr>\n",
       "      <th>6</th>\n",
       "      <td>Queens</td>\n",
       "      <td>cash</td>\n",
       "      <td>266</td>\n",
       "    </tr>\n",
       "    <tr>\n",
       "      <th>7</th>\n",
       "      <td>Queens</td>\n",
       "      <td>credit card</td>\n",
       "      <td>383</td>\n",
       "    </tr>\n",
       "  </tbody>\n",
       "</table>\n",
       "</div>"
      ],
      "text/plain": [
       "  pickup_borough      payment     0\n",
       "0          Bronx         cash    25\n",
       "1          Bronx  credit card    74\n",
       "2       Brooklyn         cash   119\n",
       "3       Brooklyn  credit card   261\n",
       "4      Manhattan         cash  1397\n",
       "5      Manhattan  credit card  3839\n",
       "6         Queens         cash   266\n",
       "7         Queens  credit card   383"
      ]
     },
     "execution_count": 111,
     "metadata": {},
     "output_type": "execute_result"
    }
   ],
   "source": [
    "df_table = df.groupby(['pickup_borough', 'payment']).size().reset_index()\n",
    "\n",
    "df_table"
   ]
  },
  {
   "cell_type": "markdown",
   "id": "4df531aa",
   "metadata": {},
   "source": [
    "We have one more step before we can use this data. We want to pivot our dataset from long-form, to wide-form. We use the **pivot** call to do this, where we specify the variable names for columns, rows (index) and the values in the cells. "
   ]
  },
  {
   "cell_type": "code",
   "execution_count": 112,
   "id": "0673d946",
   "metadata": {},
   "outputs": [
    {
     "data": {
      "text/html": [
       "<div>\n",
       "<style scoped>\n",
       "    .dataframe tbody tr th:only-of-type {\n",
       "        vertical-align: middle;\n",
       "    }\n",
       "\n",
       "    .dataframe tbody tr th {\n",
       "        vertical-align: top;\n",
       "    }\n",
       "\n",
       "    .dataframe thead th {\n",
       "        text-align: right;\n",
       "    }\n",
       "</style>\n",
       "<table border=\"1\" class=\"dataframe\">\n",
       "  <thead>\n",
       "    <tr style=\"text-align: right;\">\n",
       "      <th>payment</th>\n",
       "      <th>cash</th>\n",
       "      <th>credit card</th>\n",
       "    </tr>\n",
       "    <tr>\n",
       "      <th>pickup_borough</th>\n",
       "      <th></th>\n",
       "      <th></th>\n",
       "    </tr>\n",
       "  </thead>\n",
       "  <tbody>\n",
       "    <tr>\n",
       "      <th>Bronx</th>\n",
       "      <td>25</td>\n",
       "      <td>74</td>\n",
       "    </tr>\n",
       "    <tr>\n",
       "      <th>Brooklyn</th>\n",
       "      <td>119</td>\n",
       "      <td>261</td>\n",
       "    </tr>\n",
       "    <tr>\n",
       "      <th>Manhattan</th>\n",
       "      <td>1397</td>\n",
       "      <td>3839</td>\n",
       "    </tr>\n",
       "    <tr>\n",
       "      <th>Queens</th>\n",
       "      <td>266</td>\n",
       "      <td>383</td>\n",
       "    </tr>\n",
       "  </tbody>\n",
       "</table>\n",
       "</div>"
      ],
      "text/plain": [
       "payment         cash  credit card\n",
       "pickup_borough                   \n",
       "Bronx             25           74\n",
       "Brooklyn         119          261\n",
       "Manhattan       1397         3839\n",
       "Queens           266          383"
      ]
     },
     "execution_count": 112,
     "metadata": {},
     "output_type": "execute_result"
    }
   ],
   "source": [
    "df_frame2 = df_table.pivot(columns='payment', index='pickup_borough', values=0)\n",
    "df_frame2"
   ]
  },
  {
   "cell_type": "code",
   "execution_count": 113,
   "id": "ccd2dfc3",
   "metadata": {},
   "outputs": [
    {
     "data": {
      "text/plain": [
       "<AxesSubplot:xlabel='pickup_borough'>"
      ]
     },
     "execution_count": 113,
     "metadata": {},
     "output_type": "execute_result"
    },
    {
     "data": {
      "image/png": "[encoded data removed]",
      "text/plain": [
       "<Figure size 432x288 with 1 Axes>"
      ]
     },
     "metadata": {
      "needs_background": "light"
     },
     "output_type": "display_data"
    }
   ],
   "source": [
    "df_frame2.plot(kind = \"bar\", rot = 0)\n",
    "plt.show()"
   ]
  },
  {
   "cell_type": "markdown",
   "id": "089efb79",
   "metadata": {},
   "source": [
    "**Exercise:** Modify the above command to transpose **df_frame2**, so the rows are payment type and columns are pickup boroughs. Plot the transposed dataframe as a grouped barplot. Using Matplotlib's Pyplot command, neaten the x-axis and tick labels as required, and give the plot a title."
   ]
  },
  {
   "cell_type": "markdown",
   "id": "3e2e5a91",
   "metadata": {},
   "source": [
    "We can easily stack these bars as well, if we're interested in comparing the size of all observations by pickup borough, and we still want to see the different payment types."
   ]
  },
  {
   "cell_type": "code",
   "execution_count": 114,
   "id": "f2160c6a",
   "metadata": {},
   "outputs": [
    {
     "data": {
      "text/plain": [
       "<AxesSubplot:xlabel='pickup_borough'>"
      ]
     },
     "execution_count": 114,
     "metadata": {},
     "output_type": "execute_result"
    },
    {
     "data": {
      "image/png": "[encoded data removed]",
      "text/plain": [
       "<Figure size 432x288 with 1 Axes>"
      ]
     },
     "metadata": {
      "needs_background": "light"
     },
     "output_type": "display_data"
    }
   ],
   "source": [
    "df_frame2.plot(kind = \"bar\", rot = 0, stacked = True)\n",
    "plt.show()"
   ]
  },
  {
   "cell_type": "markdown",
   "id": "7116a8c1",
   "metadata": {},
   "source": [
    "**Exercise:** Generate a table of counts for two variables other than pickup borough and payment, and generate grouped and stacked barplots of the variables."
   ]
  },
  {
   "cell_type": "markdown",
   "id": "f3cd07ba",
   "metadata": {},
   "source": [
    "It's hard to see the relative difference in payment type between each group in the figure above - the Bronx might have the same payment composition as Manhattan, but we wouldn't know. To see this, we need a stacked percentage plot. Again, we need to transform our data with a little bit with some Pandas calls, so we have the percentage of all payments that were either cash or credit card in each pickup borough. We'll leave it to you to generate this final figure, using what you've learned so far, in the Exercises below."
   ]
  },
  {
   "cell_type": "code",
   "execution_count": 91,
   "id": "9a8bc200",
   "metadata": {},
   "outputs": [
    {
     "data": {
      "text/html": [
       "<div>\n",
       "<style scoped>\n",
       "    .dataframe tbody tr th:only-of-type {\n",
       "        vertical-align: middle;\n",
       "    }\n",
       "\n",
       "    .dataframe tbody tr th {\n",
       "        vertical-align: top;\n",
       "    }\n",
       "\n",
       "    .dataframe thead th {\n",
       "        text-align: right;\n",
       "    }\n",
       "</style>\n",
       "<table border=\"1\" class=\"dataframe\">\n",
       "  <thead>\n",
       "    <tr style=\"text-align: right;\">\n",
       "      <th>payment</th>\n",
       "      <th>cash</th>\n",
       "      <th>credit card</th>\n",
       "    </tr>\n",
       "    <tr>\n",
       "      <th>pickup_borough</th>\n",
       "      <th></th>\n",
       "      <th></th>\n",
       "    </tr>\n",
       "  </thead>\n",
       "  <tbody>\n",
       "    <tr>\n",
       "      <th>Bronx</th>\n",
       "      <td>25.252525</td>\n",
       "      <td>74.747475</td>\n",
       "    </tr>\n",
       "    <tr>\n",
       "      <th>Brooklyn</th>\n",
       "      <td>31.315789</td>\n",
       "      <td>68.684211</td>\n",
       "    </tr>\n",
       "    <tr>\n",
       "      <th>Manhattan</th>\n",
       "      <td>26.680672</td>\n",
       "      <td>73.319328</td>\n",
       "    </tr>\n",
       "    <tr>\n",
       "      <th>Queens</th>\n",
       "      <td>40.986133</td>\n",
       "      <td>59.013867</td>\n",
       "    </tr>\n",
       "  </tbody>\n",
       "</table>\n",
       "</div>"
      ],
      "text/plain": [
       "payment              cash  credit card\n",
       "pickup_borough                        \n",
       "Bronx           25.252525    74.747475\n",
       "Brooklyn        31.315789    68.684211\n",
       "Manhattan       26.680672    73.319328\n",
       "Queens          40.986133    59.013867"
      ]
     },
     "execution_count": 91,
     "metadata": {},
     "output_type": "execute_result"
    }
   ],
   "source": [
    "df_rel = df_frame2.apply(lambda x: x*100/sum(x), axis=1)\n",
    "df_rel"
   ]
  },
  {
   "cell_type": "markdown",
   "id": "06021ca7",
   "metadata": {},
   "source": [
    "**Exercise:** \n",
    "1) In your own words, explain what the apply function is doing in the above command. What would you need to change to the above command if you wanted the percentage of all cash payments in Brooklyn?\\\n",
    "2) Using df_rel and what we have learned so far, generate a stacked barplot of the percentage of all payments that were either cash or credit card in each pickup borough. Which borough has the highest percentage of cash payments?"
   ]
  },
  {
   "cell_type": "markdown",
   "id": "f06c1b94",
   "metadata": {},
   "source": [
    "## Barplots with Seaborn"
   ]
  },
  {
   "cell_type": "markdown",
   "id": "95eb0728",
   "metadata": {},
   "source": [
    "Seaborn is a wrapper around both Matplotlib (for visualisation) and Pandas (for dataset manipulation). Seaborn's **countplot** function is an excellent tool for creating barplots quickly with a Pandas dataframe. Seaborn will take a Pandas dataset and do the counting and grouping for you, which works really well for most barplots."
   ]
  },
  {
   "cell_type": "markdown",
   "id": "f3815fa6",
   "metadata": {},
   "source": [
    "**Exercise:** Work through the example code for Seaborn's countplot function, available [here](https://seaborn.pydata.org/generated/seaborn.countplot.html), using the taxis dataset you've loaded and prepared for this Module."
   ]
  }
 ],
 "metadata": {
  "kernelspec": {
   "display_name": "Python 3 (ipykernel)",
   "language": "python",
   "name": "python3"
  },
  "language_info": {
   "codemirror_mode": {
    "name": "ipython",
    "version": 3
   },
   "file_extension": ".py",
   "mimetype": "text/x-python",
   "name": "python",
   "nbconvert_exporter": "python",
   "pygments_lexer": "ipython3",
   "version": "3.9.12"
  }
 },
 "nbformat": 4,
 "nbformat_minor": 5
}
