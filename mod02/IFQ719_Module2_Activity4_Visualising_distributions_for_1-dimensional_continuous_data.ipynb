{
 "cells": [
  {
   "attachments": {},
   "cell_type": "markdown",
   "id": "318e7715",
   "metadata": {},
   "source": [
    "# Module 2, Activity 4: Visualising Distributions for 1-Dimensional Continuous Data"
   ]
  },
  {
   "attachments": {},
   "cell_type": "markdown",
   "id": "362c6865",
   "metadata": {},
   "source": [
    "Barplots are useful if we only have one data point per category (e.g., counts). But what do we do when we have multiple observations in each category? We need to create visualisations to explore the distribution of the data. That's what we'll be doing here using Seaborn.\n",
    "\n",
    "---\n",
    "\n",
    "## Setup\n",
    "\n",
    "Before creating barplots, we need to:\n",
    "- Import necessary libraries\n",
    "- Load the taxis dataset 🚖"
   ]
  },
  {
   "cell_type": "code",
   "execution_count": null,
   "id": "7a3ca161",
   "metadata": {},
   "outputs": [],
   "source": [
    "# import packages/libraries\n",
    "import seaborn as sns\n",
    "import matplotlib.pyplot as plt\n",
    "import matplotlib\n",
    "import pandas as pd\n",
    "import numpy as np\n",
    "import datetime as dt\n",
    "\n",
    "# load (and optionally format) dataset\n",
    "df = pd.read_csv(\"data/taxis.csv\")\n",
    "df[\"pickup\"] = pd.to_datetime(df[\"pickup\"], dayfirst=True)\n",
    "df[\"dropoff\"] = pd.to_datetime(df[\"dropoff\"], dayfirst=True)"
   ]
  },
  {
   "attachments": {},
   "cell_type": "markdown",
   "id": "66a83f1d",
   "metadata": {},
   "source": [
    "---\n",
    "# Histograms and Density Plots with Seaborn\n",
    "\n",
    "In this section, we'll create **histograms and density plots** to visualize distributions in our dataset.\n",
    "\n",
    "* Histogram (Hist)** → Shows the frequency of data values  \n",
    "* Kernel Density Estimation (KDE)** → Smooths the histogram into a probability curve  \n",
    "\n",
    "Seaborn provides an easy way to create both using `displot()`.\n",
    "\n",
    "---\n",
    "\n",
    "## Step 1: Creating a Histogram\n",
    "\n",
    "We can use `displot()` with `kind=\"hist\"` to create a histogram of taxi fares."
   ]
  },
  {
   "cell_type": "code",
   "execution_count": null,
   "id": "0435c816",
   "metadata": {},
   "outputs": [],
   "source": [
    "sns.displot(data=df,x=\"total\", kind = \"hist\") # histogram of taxi ride prices\n",
    "\n",
    "plt.show()"
   ]
  },
  {
   "attachments": {},
   "cell_type": "markdown",
   "id": "1cefa419",
   "metadata": {},
   "source": [
    "---\n",
    "## Step 2: Customizing the Histogram\n",
    "We can change the number of bins in two ways:\n",
    "\n",
    "1. Modify bin widthWe can change the number of bins in two ways - by modifying the width of the bins, or specifying the total number of bins:"
   ]
  },
  {
   "cell_type": "code",
   "execution_count": null,
   "id": "f0c5d7e1",
   "metadata": {},
   "outputs": [],
   "source": [
    "sns.displot(data=df,x=\"total\", kind = \"hist\", binwidth=5) # change the bin width\n",
    "\n",
    "plt.show()"
   ]
  },
  {
   "attachments": {},
   "cell_type": "markdown",
   "id": "d48dac36",
   "metadata": {},
   "source": [
    "2. Specify the total number of bins"
   ]
  },
  {
   "cell_type": "code",
   "execution_count": null,
   "id": "4972d354",
   "metadata": {},
   "outputs": [],
   "source": [
    "sns.displot(data=df,x=\"total\", kind = \"hist\", bins=10) # change the number of bins\n",
    "\n",
    "plt.show()"
   ]
  },
  {
   "attachments": {},
   "cell_type": "markdown",
   "id": "7d2123ce",
   "metadata": {},
   "source": [
    "---\n",
    "## Step 3: Creating a Density Plot (KDE)\n",
    "\n",
    "Now for density plots. We can create density plots also using the **displot** call, but we need to specify that the kind of distribution we want to visualise is a 'kernel density estimation' (kde). \n",
    "\n",
    "**Note:** If you've never heard of a kernel density estimation before - it's an estimate of the probability density function from your data."
   ]
  },
  {
   "cell_type": "code",
   "execution_count": null,
   "id": "b05b718b",
   "metadata": {},
   "outputs": [],
   "source": [
    "sns.displot(data=df, x=\"total\", kind='kde')\n",
    "\n",
    "plt.show()"
   ]
  },
  {
   "attachments": {},
   "cell_type": "markdown",
   "id": "10c8fd9c",
   "metadata": {},
   "source": [
    "---\n",
    "## Step 4: Overlaying Multiple Density Plots\n",
    "\n",
    "What if we want to overlay multiple density plots? We can distinguish them by colour `hue=`. For example, below is a figure with total fare by payment type."
   ]
  },
  {
   "cell_type": "code",
   "execution_count": null,
   "id": "0c1bdf00",
   "metadata": {},
   "outputs": [],
   "source": [
    "sns.displot(data=df, x=\"total\", hue = \"payment\", kind='kde')\n",
    "\n",
    "plt.show()"
   ]
  },
  {
   "attachments": {},
   "cell_type": "markdown",
   "id": "589cb577",
   "metadata": {},
   "source": [
    "---\n",
    "## Step 5: Combining Histogram and KDE\n",
    "\n",
    "We can overlay a density plot on a histogram by setting `kde=True`. This can be a helpful, since the shape of the density curve does not depend on the number of histogram bins. \n",
    "\n",
    "Play around with the bins parameter in the **displot** call below to see this."
   ]
  },
  {
   "cell_type": "code",
   "execution_count": null,
   "id": "0a7b2e14",
   "metadata": {},
   "outputs": [],
   "source": [
    "sns.displot(data=df, x=\"total\", kind='hist', kde=True, bins = 10) # overlay density plot on histogram\n",
    "plt.show()"
   ]
  },
  {
   "attachments": {},
   "cell_type": "markdown",
   "id": "9fd536ee",
   "metadata": {},
   "source": [
    "---\n",
    "## Step 6: Visualising a Subset of Data\n",
    "\n",
    "Sometimes we want to focus on only a subset of the data, which means we need to do some Pandas subsetting before we can visualise. \n",
    "\n",
    "Let's filter the dataset to include only trips where the pickup and drop-off happened within the same borough."
   ]
  },
  {
   "cell_type": "code",
   "execution_count": null,
   "id": "fad32e8d",
   "metadata": {},
   "outputs": [],
   "source": [
    "# Subset data where pickup and drop-off boroughs match\n",
    "df1 = df[df[\"pickup_borough\"] == df[\"dropoff_borough\"]]\n",
    "\n",
    "# Density plot for the subset\n",
    "sns.displot(data=df1, x=\"total\", kind=\"kde\")\n",
    "\n",
    "plt.show()\n"
   ]
  },
  {
   "attachments": {},
   "cell_type": "markdown",
   "id": "2469c17d",
   "metadata": {},
   "source": [
    "---\n",
    "### Exercise: \n",
    "\n",
    "Overlaying Histograms and Density Plots with Seaborn\n",
    "\n",
    "In this exercise, we’ll explore **density plots for different trip conditions** and overlay multiple histograms with density curves.\n",
    "\n",
    "**Task:**  \n",
    "- Plot the **density of total fares** where the **pickup borough is different** from the **dropoff borough**.  \n",
    "- Compare it with the density plot for trips where the **pickup and drop-off borough are the same**."
   ]
  },
  {
   "attachments": {},
   "cell_type": "markdown",
   "id": "96ab96a8",
   "metadata": {},
   "source": [
    "---\n",
    "## Step 7: Overlaying Multiple Histograms with KDE\n",
    "\n",
    "Finally, what if we wanted to overlay multiple histograms, with their density plots as well? \n",
    "\n",
    "There's a few ways to do this. The easiest is with the single-line Seaborn command `histplot()`. To show this, let's plot the distribution of total fares, split by payment type, with their density estimates included as well:"
   ]
  },
  {
   "cell_type": "code",
   "execution_count": null,
   "id": "cdc9aac3",
   "metadata": {},
   "outputs": [],
   "source": [
    "sns.histplot(data=df, x=\"total\", hue = \"payment\", kde = True)\n",
    "\n",
    "plt.show()"
   ]
  },
  {
   "attachments": {},
   "cell_type": "markdown",
   "id": "492473f5",
   "metadata": {},
   "source": [
    "What’s happening here?\n",
    "\n",
    "* Hue = \"payment\" → Separates the histogram by payment type.\n",
    "* kde=True → Adds a density curve to each histogram."
   ]
  },
  {
   "attachments": {},
   "cell_type": "markdown",
   "id": "03ca9764",
   "metadata": {},
   "source": [
    "---\n",
    "## Step 8: Customizing the Plot with Matplotlib (Pyplot)\n",
    "\n",
    "Since Seaborn is built with Matplotlib, we can use Matplotlib directly with Seaborn to modify Seaborn figures. We can do this using Matplotlib, or Pyplot. \n",
    "\n",
    "Pyplot comes with Matplotlib - we imported it earlier from Matplotlib as `plt`. Pyplot is a plotting library which is closer to the object-orientied approach of Matplotlib than Seaborn, but it's a bit simpler to use than base Matplotlib."
   ]
  },
  {
   "cell_type": "code",
   "execution_count": null,
   "id": "3d9dd2d0",
   "metadata": {},
   "outputs": [],
   "source": [
    "sns.histplot(data=df, x=\"total\", hue=\"payment\", kde=True)\n",
    "\n",
    "# Add an x-axis label using Pyplot\n",
    "plt.xlabel(\"Total Fare\")\n",
    "\n",
    "# Show the plot\n",
    "plt.show()\n"
   ]
  },
  {
   "attachments": {},
   "cell_type": "markdown",
   "id": "3fa10eae",
   "metadata": {},
   "source": [
    "---\n",
    "### Exercise:\n",
    "1) Write a comment for each line of the Pyplot code in the command above, clearly explaining what each line is doing.\n",
    "2) Read the section on **Coding styles** in following document: [The object-oriented and the pyplot interfaces](https://matplotlib.org/stable/tutorials/introductory/usage.html). **Take note** of the differences between Pyplot and base Matplotlib. \n",
    "\n",
    "We'll mainly be using the object-oriented Matplotlib style, when we use Matplotlib, but sometimes we will use Pyplot too."
   ]
  },
  {
   "attachments": {},
   "cell_type": "markdown",
   "id": "1f67612b",
   "metadata": {},
   "source": [
    "---\n",
    "# Boxplots and Violin plots"
   ]
  },
  {
   "attachments": {},
   "cell_type": "markdown",
   "id": "74218e86",
   "metadata": {},
   "source": [
    "Boxplots and violin plots are designed to summarise continuous data grouped by different categories. Let's plot the distribution of fare totals, by pickup borough. They help us understand the **distribution, spread, and outliers** in a dataset.\n",
    "\n",
    "\n",
    "We can use Seaborn's **catplot** function to quickly generate boxplots and violin plots (documentation [here](https://seaborn.pydata.org/generated/seaborn.catplot.html)).\n",
    "\n",
    "---\n",
    "\n",
    "## Step 1: Creating a Boxplot\n",
    "\n",
    "Let's plot the distribution of total fares by **pickup borough**."
   ]
  },
  {
   "cell_type": "code",
   "execution_count": null,
   "id": "af0f4233",
   "metadata": {},
   "outputs": [],
   "source": [
    "# Boxplot of total fares by pickup borough\n",
    "sns.catplot(data=df, kind=\"box\", x=\"pickup_borough\", y=\"total\")\n",
    "\n",
    "plt.show()"
   ]
  },
  {
   "attachments": {},
   "cell_type": "markdown",
   "id": "5299dc9e",
   "metadata": {},
   "source": [
    "---\n",
    "## Part 2: Creating a Violin Plot\n",
    "Violin plots have a very similar syntax:"
   ]
  },
  {
   "cell_type": "code",
   "execution_count": null,
   "id": "d6285c7a",
   "metadata": {},
   "outputs": [],
   "source": [
    "# Violin plot of total fares by pickup borough\n",
    "sns.catplot(data=df, kind=\"violin\", x=\"pickup_borough\", y=\"total\")\n",
    "\n",
    "plt.show()"
   ]
  },
  {
   "attachments": {},
   "cell_type": "markdown",
   "id": "fe827ddf",
   "metadata": {},
   "source": [
    "---\n",
    "## 3: Grouping by Payment Type\n",
    "We can show categories within different groups. For example, let's look at the total fares by payment type, for each pickup borough, with a boxplot."
   ]
  },
  {
   "cell_type": "code",
   "execution_count": null,
   "id": "dd275dd0",
   "metadata": {},
   "outputs": [],
   "source": [
    "sns.catplot(data=df,x=\"pickup_borough\",y=\"total\", hue=\"payment\", kind=\"box\")\n",
    "\n",
    "plt.show()"
   ]
  },
  {
   "attachments": {},
   "cell_type": "markdown",
   "id": "95378022",
   "metadata": {},
   "source": [
    "What’s happening here?\n",
    "\n",
    "* Hue = \"payment\" → Groups the fares by payment type.\n",
    "* Multiple boxplots appear for each pickup borough."
   ]
  },
  {
   "attachments": {},
   "cell_type": "markdown",
   "id": "b19a6719",
   "metadata": {},
   "source": [
    "---\n",
    "## 4: Changing the Orientation\n",
    "\n",
    "It's quite hard to compare these individual boxplots because they are all squished up, let's try some variations. For example, let's change the axis around, to change the orientation of the figure."
   ]
  },
  {
   "cell_type": "code",
   "execution_count": null,
   "id": "a13f364a",
   "metadata": {},
   "outputs": [],
   "source": [
    "sns.catplot(data=df,kind = \"box\",y=\"pickup_borough\",x=\"total\", hue=\"payment\")\n",
    "plt.show()"
   ]
  },
  {
   "attachments": {},
   "cell_type": "markdown",
   "id": "6e05197a",
   "metadata": {},
   "source": [
    "This flips the x and y axes!\n",
    "\n",
    "* Now pickup_borough is on the y-axis\n",
    "* Total fares appear horizontally\n"
   ]
  },
  {
   "attachments": {},
   "cell_type": "markdown",
   "id": "cd4c6ab2",
   "metadata": {},
   "source": [
    "---\n",
    "## 5: Removing Outliers\n",
    "\n",
    "Next, let's remove the outliers:"
   ]
  },
  {
   "cell_type": "code",
   "execution_count": null,
   "id": "f32eb293",
   "metadata": {},
   "outputs": [],
   "source": [
    "sns.catplot(data=df, kind = \"box\", y=\"pickup_borough\",x=\"total\", hue=\"payment\", orient=\"h\", showfliers=False)\n",
    "plt.show()"
   ]
  },
  {
   "attachments": {},
   "cell_type": "markdown",
   "id": "ccc62888",
   "metadata": {},
   "source": [
    "Why remove outliers? This helps focus on the main data distribution and prevents skewed visualisation caused by extreme values."
   ]
  },
  {
   "attachments": {},
   "cell_type": "markdown",
   "id": "2922d22d",
   "metadata": {},
   "source": [
    "---\n",
    "### Exercise:\n",
    "\n",
    "How is the number of passengers related to the distance of a fare? To answer this question, we've generated the figure below:"
   ]
  },
  {
   "cell_type": "code",
   "execution_count": null,
   "id": "34f7e729",
   "metadata": {},
   "outputs": [],
   "source": [
    "sns.catplot(x=\"passengers\", y=\"distance\", kind=\"bar\", data=df)\n",
    "plt.show()"
   ]
  },
  {
   "attachments": {},
   "cell_type": "markdown",
   "id": "fcfff133",
   "metadata": {},
   "source": [
    "In a few sentences, explain why this is not the best visualisation to address this question. Create an alternative figure that is better-suited from what you have learned so far."
   ]
  }
 ],
 "metadata": {
  "kernelspec": {
   "display_name": "Python 3 (ipykernel)",
   "language": "python",
   "name": "python3"
  },
  "language_info": {
   "codemirror_mode": {
    "name": "ipython",
    "version": 3
   },
   "file_extension": ".py",
   "mimetype": "text/x-python",
   "name": "python",
   "nbconvert_exporter": "python",
   "pygments_lexer": "ipython3",
   "version": "3.11.11"
  }
 },
 "nbformat": 4,
 "nbformat_minor": 5
}
