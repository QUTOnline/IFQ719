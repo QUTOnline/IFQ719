{
 "cells": [
  {
   "attachments": {},
   "cell_type": "markdown",
   "id": "82ea3988",
   "metadata": {},
   "source": [
    "# Module 2, Activity 5: Visualising 2-Dimensional Continuous Data"
   ]
  },
  {
   "attachments": {},
   "cell_type": "markdown",
   "id": "131d20b6",
   "metadata": {},
   "source": [
    "For visualising potential relationsips between 2-dimensional continuous variables, the scatter plot is the first place to start. In Python, scatter plots are available through pretty much all visualisation libraries, from base Matplotlib to Seaborn to Pandas.plot. Here, we're going to use Matplotlib.\n",
    "\n",
    "---\n",
    "\n",
    "## Step 1: Import Necessary Libraries"
   ]
  },
  {
   "cell_type": "code",
   "execution_count": null,
   "id": "19b42625",
   "metadata": {},
   "outputs": [],
   "source": [
    "# import packages/libraries\n",
    "import seaborn as sns\n",
    "import matplotlib.pyplot as plt\n",
    "import matplotlib\n",
    "import pandas as pd\n",
    "import numpy as np\n",
    "import datetime as dt\n",
    "from datetime import datetime\n",
    "\n",
    "# load (and optionally format) dataset\n",
    "df = pd.read_csv(\"data/taxis.csv\")# Reads the CSV file and stores it in 'df'\n",
    "\n",
    "# Convert the 'pickup' and 'dropoff' columns to proper date/time format\n",
    "df[\"pickup\"] = pd.to_datetime(df[\"pickup\"], dayfirst=True)\n",
    "df[\"dropoff\"] = pd.to_datetime(df[\"dropoff\"], dayfirst=True)"
   ]
  },
  {
   "attachments": {},
   "cell_type": "markdown",
   "id": "d94b3ec9",
   "metadata": {},
   "source": [
    "Let's having a look at what is happening here. \n",
    "\n",
    "* `pd.read_csv(\"data/taxis.csv\")` – Reads the dataset file and saves it in a variable called df (short for DataFrame, which is a table of data).\n",
    "* `pd.to_datetime(df[\"pickup\"])` – Converts the pickup time into a format that Python understands.\n",
    "* `pd.to_datetime(df[\"dropoff\"])` – Converts the dropoff time into the correct format.\n",
    "\n",
    "---\n",
    "\n",
    "## Step 2: Calculate Trip Duration\n",
    "Now, we will calculate how long each taxi trip took."
   ]
  },
  {
   "cell_type": "code",
   "execution_count": null,
   "id": "ac86fc96",
   "metadata": {},
   "outputs": [],
   "source": [
    "# Calculate trip duration by subtracting pickup time from dropoff time\n",
    "duration = df[\"dropoff\"] - df[\"pickup\"]\n",
    "\n",
    "# Convert duration to minutes and add it to the dataset\n",
    "df[\"duration_min\"] = duration.dt.total_seconds() / 60  "
   ]
  },
  {
   "attachments": {},
   "cell_type": "markdown",
   "id": "8a2092b1",
   "metadata": {},
   "source": [
    "---\n",
    "## Step 3: View the Updated Dataset\n",
    "If we look at our dataset, we'll see we've added a new variable at the end called \"duration_min\"."
   ]
  },
  {
   "cell_type": "code",
   "execution_count": null,
   "id": "b75ff795",
   "metadata": {},
   "outputs": [],
   "source": [
    "df  # Display the dataset"
   ]
  },
  {
   "attachments": {},
   "cell_type": "markdown",
   "id": "a7e4e661",
   "metadata": {},
   "source": [
    "---\n",
    "## Step 4: Creating a Simple Scatter Plot\n",
    "\n",
    "Now, let's begin plotting with something easy. Let's explore the relationship between the distance travelled and the fare total."
   ]
  },
  {
   "cell_type": "code",
   "execution_count": null,
   "id": "89884899",
   "metadata": {},
   "outputs": [],
   "source": [
    "# Create a figure and axis for the plot\n",
    "fig, ax = plt.subplots()\n",
    "\n",
    "# Create a scatter plot\n",
    "ax.scatter(df.distance, df.total)  # Each point represents a trip\n",
    "\n",
    "# Label the axes\n",
    "ax.set_xlabel(\"Distance (km)\")  # X-axis label with units\n",
    "ax.set_ylabel(\"Total Fare ($)\")  # Y-axis label with units\n",
    "\n",
    "# Add a title to the plot\n",
    "ax.set_title(\"Total Fare vs Distance\")\n",
    "\n",
    "# Show the plot\n",
    "plt.show()\n"
   ]
  },
  {
   "attachments": {},
   "cell_type": "markdown",
   "id": "e9c21880",
   "metadata": {},
   "source": [
    "Expected Outcome: A scatter plot showing a trend where longer trips generally result in higher fares.\n",
    "\n",
    "### Exercise:\n",
    "Edit the axis labels in the figure above to include the units for Distance (km) and Total Fare ($).\n",
    "\n",
    "---"
   ]
  },
  {
   "attachments": {},
   "cell_type": "markdown",
   "id": "4bd89b2c",
   "metadata": {},
   "source": [
    "## Step 5: Distinguishing Payment Methods\n",
    "\n",
    "Sometimes, we want to see if there are patterns based on payment method. Let’s color-code the scatter plot to differentiate trips paid with cash vs credit card."
   ]
  },
  {
   "cell_type": "code",
   "execution_count": null,
   "id": "24e288ad",
   "metadata": {},
   "outputs": [],
   "source": [
    "# Split the data into two groups based on payment type\n",
    "df_card = df[df.payment == \"credit card\"]  # Filter trips paid by credit card\n",
    "df_cash = df[df.payment == \"cash\"]  # Filter trips paid by cash\n",
    "\n",
    "# Create a new scatter plot with different colors for each payment type\n",
    "fig, ax = plt.subplots()\n",
    "\n",
    "# Plot credit card payments in red\n",
    "ax.scatter(df_card.distance, df_card.total, c=\"r\", label=\"Credit Card\")  \n",
    "\n",
    "# Plot cash payments in blue\n",
    "ax.scatter(df_cash.distance, df_cash.total, c=\"b\", label=\"Cash\")  \n",
    "\n",
    "# Add axis labels and a title\n",
    "ax.set_xlabel(\"Distance (km)\")  \n",
    "ax.set_ylabel(\"Total Fare ($)\")  \n",
    "ax.set_title(\"Total Fare vs Distance by Payment Method\")\n",
    "\n",
    "# Add a legend to differentiate between payment types\n",
    "ax.legend()\n",
    "\n",
    "# Show the plot\n",
    "plt.show()\n"
   ]
  },
  {
   "attachments": {},
   "cell_type": "markdown",
   "id": "9424f467",
   "metadata": {},
   "source": [
    "---\n",
    "### Exercises:\n",
    "\n",
    "Exercise 1: Analyzing Trip Distance and Duration by Payment Type\n",
    "- **Objective:** Create a scatter plot to explore the relationship between trip distance and duration. Use different colors or markers to represent various payment types (e.g., cash, credit card).\n",
    "\n",
    "Exercise 2: Scatter Plot with Distinctive Markers\n",
    "- **Objective:** Referencing the [Matplotlib marker style guide](https://matplotlib.org/stable/api/markers_api.html#module-matplotlib.markers), create a scatter plot to display the relationship between distance and fare. Use distinct markers to differentiate between two groups.\n",
    "\n",
    "Exercise 3: Adjusting Legend Placement\n",
    "- **Objective:** Adjust the position of the legend in your scatter plot. Use the [Matplotlib legend documentation](https://matplotlib.org/stable/tutorials/intermediate/legend_guide.html) to:\n",
    "  - Move the legend to the top left corner of the plot.\n",
    "  - Position the legend on the right-hand side outside the plot axes.\n",
    "  - Add a descriptive title to the legend.\n",
    "\n",
    "Exercise 4: Truncating Plot Axes\n",
    "- **Objective:** Modify your scatter plot to limit the x-axis to a range from 0 to 5 and the y-axis from 30 to 175. Reference Matplotlib's [axis documentation](https://matplotlib.org/stable/api/axes_api.html) to achieve this.\n",
    "\n",
    "Exercise 5: Explaining Anomalies in Data\n",
    "- **Objective:** Discuss potential reasons for observing very high fares despite little or no distance traveled. Consider aspects such as minimum fare charges, waiting time, or data entry errors in your explanation.\n",
    "\n",
    "\n",
    "**HINT:** Were these travellers prepared when their taxi arrived to collect them? We'll look more at unexpected values in a later Module."
   ]
  },
  {
   "attachments": {},
   "cell_type": "markdown",
   "id": "1840b023",
   "metadata": {},
   "source": [
    "---\n",
    "We can see from our figure above that total fare increases with distance travelled in a pretty linear way. This isn't very surprising. But, there's more to this data than what this single figure can show. For example, what if we wanted to colour the points by the time of day? We could subset our data into fares during peak traffic hour (7.30am - 9.30am and 4.30pm to 6.30pm) and off-peak hours. Maybe we're interested in looking at this, as well as how the distance versus fare relationship differs by payment type. For this, we could plot two axes on the same figure. Let's do this now.\\\n",
    "\n",
    "First, we need to subset our data into peak and off-peak travel times. We'll use the pickup time variable for this."
   ]
  },
  {
   "cell_type": "code",
   "execution_count": null,
   "id": "e048fbfd",
   "metadata": {},
   "outputs": [],
   "source": [
    "## Create datetime start and finish times for the two peak periods, \n",
    "# for more information about datetime.strptime, \n",
    "# see here: https://www.geeksforgeeks.org/python-datetime-strptime-function/.\n",
    "peakstart1 = datetime.strptime(\"07\" + \"30\" + \"00\", \"%H%M%S\").time() \n",
    "peakstart2 = datetime.strptime(\"16\" + \"30\" + \"00\", \"%H%M%S\").time()\n",
    "\n",
    "peakend1 = datetime.strptime(\"09\" + \"30\" + \"00\", \"%H%M%S\").time() \n",
    "peakend2 = datetime.strptime(\"18\" + \"30\" + \"00\", \"%H%M%S\").time() \n",
    "\n",
    "# Extract time of day from datetime pickup object (we don't want the date)\n",
    "df[\"pickup_time\"] = df[\"pickup\"].dt.time \n",
    "\n",
    "# Create a boolean variable called peak, which is True when pickup time is within peak hours, and False when it isn't.\n",
    "df[\"peak\"] = (((df.pickup_time >= peakstart1) & (df.pickup_time <= peakend1)) | # Peak time one, note the | symbol, this means 'or'. So we're searching for times in peak time one OR peak time two\n",
    "              ((df.pickup_time >= peakstart2) & (df.pickup_time <= peakend2))) # Peak time two\n",
    "\n",
    "df_peak = df[df.peak == True] # Subset of our dataset, with peak time pickups only\n",
    "df_offpeak = df[df.peak == False] # Subset of our dataset, with off-peak pickups only\n",
    "\n",
    "# Create scatter plot\n",
    "fig, ax = plt.subplots()\n",
    "ax.scatter(df_peak.distance, df_peak.total, c = \"r\")\n",
    "ax.scatter(df_offpeak.distance, df_offpeak.total, c = \"b\")\n",
    "\n",
    "ax.set_xlabel(\"Distance\")\n",
    "ax.set_ylabel(\"Total Fare\")\n",
    "ax.set_title(\"No Difference Between Peak and Off-Peak\")\n",
    "ax.legend([\"Peak\", \"Off-Peak\"])\n",
    "\n",
    "plt.show()\n"
   ]
  },
  {
   "attachments": {},
   "cell_type": "markdown",
   "id": "1c392683",
   "metadata": {},
   "source": [
    "So, we don't really see a difference between distance travelled and total fare between peak and off-peak times after all. But, the off-peak points are obscuring most of the peak points, how do we deal with this? One way is to create seperate axes for the peak and offpeak scatterplots. This is easy with Pyplot, we just need to specify each plot's position in our figure."
   ]
  },
  {
   "cell_type": "code",
   "execution_count": null,
   "id": "3cead66e",
   "metadata": {},
   "outputs": [],
   "source": [
    "fig, axs = plt.subplots(1,2) # A figure with one row and two columns of axes\n",
    "\n",
    "# Our first plot, note Python indexes from 0\n",
    "axs[0].scatter(df_peak.distance, df_peak.total, c = \"r\")\n",
    "axs[0].set_xlabel(\"Distance\")\n",
    "axs[0].set_ylabel(\"Total Fare\")\n",
    "axs[0].set_title(\"Peak\")\n",
    "\n",
    "# Our second plot\n",
    "axs[1].scatter(df_offpeak.distance, df_offpeak.total, c = \"b\")\n",
    "axs[1].set_xlabel(\"Distance\")\n",
    "axs[1].set_ylabel(\"Total Fare\")\n",
    "axs[1].set_title(\"Off-Peak\")\n",
    "\n",
    "# Figure aesthetics\n",
    "plt.suptitle('Peak and Off-Peak are Similar', fontsize=16) # Main title\n",
    "plt.tight_layout() # Shortcut to arrange figures without overlap (try without this)\n",
    "plt.show() # Show plot command"
   ]
  },
  {
   "attachments": {},
   "cell_type": "markdown",
   "id": "06c086ec",
   "metadata": {},
   "source": [
    "---\n",
    "### Exercise:\n",
    "1. Changing the Layout of Subplots\n",
    "Instead of having one row with two columns, modify your subplot layout to have one column with two rows.\n",
    "\n",
    "    Modify your existing code so that:\n",
    "\n",
    "* The plots are arranged vertically (one above the other) instead of side by side.\n",
    "* The `plt.subplots()` function uses `nrows=2, ncols=1` instead of `nrows=1, ncols=2`.\n",
    "\n",
    "2. Exploring Fares During Day vs Night\n",
    "Now, let's analyze how fares vary during daytime (6:00 AM - 6:00 PM) vs nighttime (6:00 PM - 6:00 AM).\n",
    "\n",
    "    Modify your dataset to:\n",
    "\n",
    "* Extract the pickup time for each trip.\n",
    "* Create two subsets:\n",
    "    * Daytime trips (6:00 AM - 6:00 PM)\n",
    "    * Nighttime trips (6:00 PM - 6:00 AM\n",
    "\n",
    "3. Creating a 2x2 Grid of Plots\n",
    "Now, let's visualize four plots in a 2-row, 2-column layout:\n",
    "\n",
    "* The first row will compare peak vs off-peak fares.\n",
    "* The second row will compare daytime vs nighttime fares.\n",
    "\n",
    "\n",
    "\n"
   ]
  },
  {
   "cell_type": "code",
   "execution_count": null,
   "id": "68141a0a-c2f4-4727-9014-456cf50b1900",
   "metadata": {},
   "outputs": [],
   "source": []
  },
  {
   "cell_type": "code",
   "execution_count": null,
   "id": "a51c8aff-abe8-48cd-a131-2f3a954d6cfa",
   "metadata": {},
   "outputs": [],
   "source": []
  }
 ],
 "metadata": {
  "kernelspec": {
   "display_name": "Python 3 (ipykernel)",
   "language": "python",
   "name": "python3"
  },
  "language_info": {
   "codemirror_mode": {
    "name": "ipython",
    "version": 3
   },
   "file_extension": ".py",
   "mimetype": "text/x-python",
   "name": "python",
   "nbconvert_exporter": "python",
   "pygments_lexer": "ipython3",
   "version": "3.11.11"
  }
 },
 "nbformat": 4,
 "nbformat_minor": 5
}
