{
 "cells": [
  {
   "cell_type": "markdown",
   "id": "61861074",
   "metadata": {},
   "source": [
    "# Module 2, Activity 5: Visualising 2-Dimensional Continuous Data"
   ]
  },
  {
   "cell_type": "markdown",
   "id": "b06d1ab5",
   "metadata": {},
   "source": [
    "For visualising potential relationsips between 2-dimensional continuous variables, the scatter plot is the first place to start. In Python, scatter plots are available through pretty much all visualisation libraries, from base Matplotlib to Seaborn to Pandas.plot. Here, we're going to use Matplotlib."
   ]
  },
  {
   "cell_type": "code",
   "execution_count": 33,
   "id": "396eb4da",
   "metadata": {},
   "outputs": [],
   "source": [
    "# import packages/libraries\n",
    "import seaborn as sns\n",
    "import matplotlib.pyplot as plt\n",
    "import matplotlib\n",
    "import pandas as pd\n",
    "import numpy as np\n",
    "import datetime as dt\n",
    "from datetime import datetime\n",
    "\n",
    "# load (and optionally format) dataset\n",
    "df = pd.read_csv(\"data/taxis.csv\")\n",
    "df[\"pickup\"] = pd.to_datetime(df[\"pickup\"])\n",
    "df[\"dropoff\"] = pd.to_datetime(df[\"dropoff\"])"
   ]
  },
  {
   "cell_type": "markdown",
   "id": "ecbb9c5c",
   "metadata": {},
   "source": [
    "Before we start, we are going to create a new column of data, the duration in minutes of each trip."
   ]
  },
  {
   "cell_type": "code",
   "execution_count": 34,
   "id": "184f628c",
   "metadata": {},
   "outputs": [],
   "source": [
    "duration = df[\"dropoff\"]-df[\"pickup\"] #calculating trip duration as timedelta datatype\n",
    "df[\"duration_min\"] = duration.dt.total_seconds()/60 #converting to minutes and adding to df"
   ]
  },
  {
   "cell_type": "markdown",
   "id": "b3769994",
   "metadata": {},
   "source": [
    "If we look at our dataset, we'll see we've added a new variable at the end called \"duration_min\"."
   ]
  },
  {
   "cell_type": "code",
   "execution_count": 35,
   "id": "2d757bb2",
   "metadata": {},
   "outputs": [
    {
     "data": {
      "text/html": [
       "<div>\n",
       "<style scoped>\n",
       "    .dataframe tbody tr th:only-of-type {\n",
       "        vertical-align: middle;\n",
       "    }\n",
       "\n",
       "    .dataframe tbody tr th {\n",
       "        vertical-align: top;\n",
       "    }\n",
       "\n",
       "    .dataframe thead th {\n",
       "        text-align: right;\n",
       "    }\n",
       "</style>\n",
       "<table border=\"1\" class=\"dataframe\">\n",
       "  <thead>\n",
       "    <tr style=\"text-align: right;\">\n",
       "      <th></th>\n",
       "      <th>pickup</th>\n",
       "      <th>dropoff</th>\n",
       "      <th>passengers</th>\n",
       "      <th>distance</th>\n",
       "      <th>fare</th>\n",
       "      <th>tip</th>\n",
       "      <th>tolls</th>\n",
       "      <th>total</th>\n",
       "      <th>color</th>\n",
       "      <th>payment</th>\n",
       "      <th>pickup_zone</th>\n",
       "      <th>dropoff_zone</th>\n",
       "      <th>pickup_borough</th>\n",
       "      <th>dropoff_borough</th>\n",
       "      <th>duration_min</th>\n",
       "    </tr>\n",
       "  </thead>\n",
       "  <tbody>\n",
       "    <tr>\n",
       "      <th>0</th>\n",
       "      <td>2019-03-23 20:21:00</td>\n",
       "      <td>2019-03-23 20:27:00</td>\n",
       "      <td>1</td>\n",
       "      <td>1.60</td>\n",
       "      <td>7.0</td>\n",
       "      <td>2.15</td>\n",
       "      <td>0.0</td>\n",
       "      <td>12.95</td>\n",
       "      <td>yellow</td>\n",
       "      <td>credit card</td>\n",
       "      <td>Lenox Hill West</td>\n",
       "      <td>UN/Turtle Bay South</td>\n",
       "      <td>Manhattan</td>\n",
       "      <td>Manhattan</td>\n",
       "      <td>6.0</td>\n",
       "    </tr>\n",
       "    <tr>\n",
       "      <th>1</th>\n",
       "      <td>2019-03-04 16:11:00</td>\n",
       "      <td>2019-03-04 16:19:00</td>\n",
       "      <td>1</td>\n",
       "      <td>0.79</td>\n",
       "      <td>5.0</td>\n",
       "      <td>0.00</td>\n",
       "      <td>0.0</td>\n",
       "      <td>9.30</td>\n",
       "      <td>yellow</td>\n",
       "      <td>cash</td>\n",
       "      <td>Upper West Side South</td>\n",
       "      <td>Upper West Side South</td>\n",
       "      <td>Manhattan</td>\n",
       "      <td>Manhattan</td>\n",
       "      <td>8.0</td>\n",
       "    </tr>\n",
       "    <tr>\n",
       "      <th>2</th>\n",
       "      <td>2019-03-27 17:53:00</td>\n",
       "      <td>2019-03-27 18:00:00</td>\n",
       "      <td>1</td>\n",
       "      <td>1.37</td>\n",
       "      <td>7.5</td>\n",
       "      <td>2.36</td>\n",
       "      <td>0.0</td>\n",
       "      <td>14.16</td>\n",
       "      <td>yellow</td>\n",
       "      <td>credit card</td>\n",
       "      <td>Alphabet City</td>\n",
       "      <td>West Village</td>\n",
       "      <td>Manhattan</td>\n",
       "      <td>Manhattan</td>\n",
       "      <td>7.0</td>\n",
       "    </tr>\n",
       "    <tr>\n",
       "      <th>3</th>\n",
       "      <td>2019-03-10 01:23:00</td>\n",
       "      <td>2019-03-10 01:49:00</td>\n",
       "      <td>1</td>\n",
       "      <td>7.70</td>\n",
       "      <td>27.0</td>\n",
       "      <td>6.15</td>\n",
       "      <td>0.0</td>\n",
       "      <td>36.95</td>\n",
       "      <td>yellow</td>\n",
       "      <td>credit card</td>\n",
       "      <td>Hudson Sq</td>\n",
       "      <td>Yorkville West</td>\n",
       "      <td>Manhattan</td>\n",
       "      <td>Manhattan</td>\n",
       "      <td>26.0</td>\n",
       "    </tr>\n",
       "    <tr>\n",
       "      <th>4</th>\n",
       "      <td>2019-03-30 13:27:00</td>\n",
       "      <td>2019-03-30 13:37:00</td>\n",
       "      <td>3</td>\n",
       "      <td>2.16</td>\n",
       "      <td>9.0</td>\n",
       "      <td>1.10</td>\n",
       "      <td>0.0</td>\n",
       "      <td>13.40</td>\n",
       "      <td>yellow</td>\n",
       "      <td>credit card</td>\n",
       "      <td>Midtown East</td>\n",
       "      <td>Yorkville West</td>\n",
       "      <td>Manhattan</td>\n",
       "      <td>Manhattan</td>\n",
       "      <td>10.0</td>\n",
       "    </tr>\n",
       "    <tr>\n",
       "      <th>...</th>\n",
       "      <td>...</td>\n",
       "      <td>...</td>\n",
       "      <td>...</td>\n",
       "      <td>...</td>\n",
       "      <td>...</td>\n",
       "      <td>...</td>\n",
       "      <td>...</td>\n",
       "      <td>...</td>\n",
       "      <td>...</td>\n",
       "      <td>...</td>\n",
       "      <td>...</td>\n",
       "      <td>...</td>\n",
       "      <td>...</td>\n",
       "      <td>...</td>\n",
       "      <td>...</td>\n",
       "    </tr>\n",
       "    <tr>\n",
       "      <th>6428</th>\n",
       "      <td>2019-03-31 09:51:00</td>\n",
       "      <td>2019-03-31 09:55:00</td>\n",
       "      <td>1</td>\n",
       "      <td>0.75</td>\n",
       "      <td>4.5</td>\n",
       "      <td>1.06</td>\n",
       "      <td>0.0</td>\n",
       "      <td>6.36</td>\n",
       "      <td>green</td>\n",
       "      <td>credit card</td>\n",
       "      <td>East Harlem North</td>\n",
       "      <td>Central Harlem North</td>\n",
       "      <td>Manhattan</td>\n",
       "      <td>Manhattan</td>\n",
       "      <td>4.0</td>\n",
       "    </tr>\n",
       "    <tr>\n",
       "      <th>6429</th>\n",
       "      <td>2019-03-31 17:38:00</td>\n",
       "      <td>2019-03-31 18:34:00</td>\n",
       "      <td>1</td>\n",
       "      <td>18.74</td>\n",
       "      <td>58.0</td>\n",
       "      <td>0.00</td>\n",
       "      <td>0.0</td>\n",
       "      <td>58.80</td>\n",
       "      <td>green</td>\n",
       "      <td>credit card</td>\n",
       "      <td>Jamaica</td>\n",
       "      <td>East Concourse/Concourse Village</td>\n",
       "      <td>Queens</td>\n",
       "      <td>Bronx</td>\n",
       "      <td>56.0</td>\n",
       "    </tr>\n",
       "    <tr>\n",
       "      <th>6430</th>\n",
       "      <td>2019-03-23 22:55:00</td>\n",
       "      <td>2019-03-23 23:14:00</td>\n",
       "      <td>1</td>\n",
       "      <td>4.14</td>\n",
       "      <td>16.0</td>\n",
       "      <td>0.00</td>\n",
       "      <td>0.0</td>\n",
       "      <td>17.30</td>\n",
       "      <td>green</td>\n",
       "      <td>cash</td>\n",
       "      <td>Crown Heights North</td>\n",
       "      <td>Bushwick North</td>\n",
       "      <td>Brooklyn</td>\n",
       "      <td>Brooklyn</td>\n",
       "      <td>19.0</td>\n",
       "    </tr>\n",
       "    <tr>\n",
       "      <th>6431</th>\n",
       "      <td>2019-03-04 10:09:00</td>\n",
       "      <td>2019-03-04 10:14:00</td>\n",
       "      <td>1</td>\n",
       "      <td>1.12</td>\n",
       "      <td>6.0</td>\n",
       "      <td>0.00</td>\n",
       "      <td>0.0</td>\n",
       "      <td>6.80</td>\n",
       "      <td>green</td>\n",
       "      <td>credit card</td>\n",
       "      <td>East New York</td>\n",
       "      <td>East Flatbush/Remsen Village</td>\n",
       "      <td>Brooklyn</td>\n",
       "      <td>Brooklyn</td>\n",
       "      <td>5.0</td>\n",
       "    </tr>\n",
       "    <tr>\n",
       "      <th>6432</th>\n",
       "      <td>2019-03-13 19:31:00</td>\n",
       "      <td>2019-03-13 19:48:00</td>\n",
       "      <td>1</td>\n",
       "      <td>3.85</td>\n",
       "      <td>15.0</td>\n",
       "      <td>3.36</td>\n",
       "      <td>0.0</td>\n",
       "      <td>20.16</td>\n",
       "      <td>green</td>\n",
       "      <td>credit card</td>\n",
       "      <td>Boerum Hill</td>\n",
       "      <td>Windsor Terrace</td>\n",
       "      <td>Brooklyn</td>\n",
       "      <td>Brooklyn</td>\n",
       "      <td>17.0</td>\n",
       "    </tr>\n",
       "  </tbody>\n",
       "</table>\n",
       "<p>6433 rows × 15 columns</p>\n",
       "</div>"
      ],
      "text/plain": [
       "                  pickup             dropoff  passengers  distance  fare  \\\n",
       "0    2019-03-23 20:21:00 2019-03-23 20:27:00           1      1.60   7.0   \n",
       "1    2019-03-04 16:11:00 2019-03-04 16:19:00           1      0.79   5.0   \n",
       "2    2019-03-27 17:53:00 2019-03-27 18:00:00           1      1.37   7.5   \n",
       "3    2019-03-10 01:23:00 2019-03-10 01:49:00           1      7.70  27.0   \n",
       "4    2019-03-30 13:27:00 2019-03-30 13:37:00           3      2.16   9.0   \n",
       "...                  ...                 ...         ...       ...   ...   \n",
       "6428 2019-03-31 09:51:00 2019-03-31 09:55:00           1      0.75   4.5   \n",
       "6429 2019-03-31 17:38:00 2019-03-31 18:34:00           1     18.74  58.0   \n",
       "6430 2019-03-23 22:55:00 2019-03-23 23:14:00           1      4.14  16.0   \n",
       "6431 2019-03-04 10:09:00 2019-03-04 10:14:00           1      1.12   6.0   \n",
       "6432 2019-03-13 19:31:00 2019-03-13 19:48:00           1      3.85  15.0   \n",
       "\n",
       "       tip  tolls  total   color      payment            pickup_zone  \\\n",
       "0     2.15    0.0  12.95  yellow  credit card        Lenox Hill West   \n",
       "1     0.00    0.0   9.30  yellow         cash  Upper West Side South   \n",
       "2     2.36    0.0  14.16  yellow  credit card          Alphabet City   \n",
       "3     6.15    0.0  36.95  yellow  credit card              Hudson Sq   \n",
       "4     1.10    0.0  13.40  yellow  credit card           Midtown East   \n",
       "...    ...    ...    ...     ...          ...                    ...   \n",
       "6428  1.06    0.0   6.36   green  credit card      East Harlem North   \n",
       "6429  0.00    0.0  58.80   green  credit card                Jamaica   \n",
       "6430  0.00    0.0  17.30   green         cash    Crown Heights North   \n",
       "6431  0.00    0.0   6.80   green  credit card          East New York   \n",
       "6432  3.36    0.0  20.16   green  credit card            Boerum Hill   \n",
       "\n",
       "                          dropoff_zone pickup_borough dropoff_borough  \\\n",
       "0                  UN/Turtle Bay South      Manhattan       Manhattan   \n",
       "1                Upper West Side South      Manhattan       Manhattan   \n",
       "2                         West Village      Manhattan       Manhattan   \n",
       "3                       Yorkville West      Manhattan       Manhattan   \n",
       "4                       Yorkville West      Manhattan       Manhattan   \n",
       "...                                ...            ...             ...   \n",
       "6428              Central Harlem North      Manhattan       Manhattan   \n",
       "6429  East Concourse/Concourse Village         Queens           Bronx   \n",
       "6430                    Bushwick North       Brooklyn        Brooklyn   \n",
       "6431      East Flatbush/Remsen Village       Brooklyn        Brooklyn   \n",
       "6432                   Windsor Terrace       Brooklyn        Brooklyn   \n",
       "\n",
       "      duration_min  \n",
       "0              6.0  \n",
       "1              8.0  \n",
       "2              7.0  \n",
       "3             26.0  \n",
       "4             10.0  \n",
       "...            ...  \n",
       "6428           4.0  \n",
       "6429          56.0  \n",
       "6430          19.0  \n",
       "6431           5.0  \n",
       "6432          17.0  \n",
       "\n",
       "[6433 rows x 15 columns]"
      ]
     },
     "execution_count": 35,
     "metadata": {},
     "output_type": "execute_result"
    }
   ],
   "source": [
    "df"
   ]
  },
  {
   "cell_type": "markdown",
   "id": "1e9ef042",
   "metadata": {},
   "source": [
    "Now, let's begin plotting with something easy. Let's explore the relationship between the distance travelled and the fare total."
   ]
  },
  {
   "cell_type": "code",
   "execution_count": 36,
   "id": "66dcda0c",
   "metadata": {},
   "outputs": [
    {
     "data": {
      "image/png": "[encoded data removed]",
      "text/plain": [
       "<Figure size 432x288 with 1 Axes>"
      ]
     },
     "metadata": {
      "needs_background": "light"
     },
     "output_type": "display_data"
    }
   ],
   "source": [
    "fix, ax = plt.subplots()\n",
    "ax.scatter(df.distance, df.total) # Plot points\n",
    "ax.set_xlabel(\"Distance\") # X-axis label\n",
    "ax.set_ylabel(\"Total Fare\") # Y-axis label\n",
    "ax.set_title(\"Total Fare increases with Distance\") # Useful/interesting title\n",
    "plt.show() # Command to show plot"
   ]
  },
  {
   "cell_type": "markdown",
   "id": "d213a191",
   "metadata": {},
   "source": [
    "**Exercise:** Edit the axis labels in the figure above to include the units for Distance (km) and Total Fare ($)."
   ]
  },
  {
   "cell_type": "markdown",
   "id": "53bbb8f3",
   "metadata": {},
   "source": [
    "What if we wanted to distinguish between payment types? We could use colours to do this. First, we need to split our datasets, then plot two scatter plots on the same axes."
   ]
  },
  {
   "cell_type": "code",
   "execution_count": 37,
   "id": "13d1aa2a",
   "metadata": {},
   "outputs": [
    {
     "data": {
      "image/png": "[encoded data removed]",
      "text/plain": [
       "<Figure size 432x288 with 1 Axes>"
      ]
     },
     "metadata": {
      "needs_background": "light"
     },
     "output_type": "display_data"
    }
   ],
   "source": [
    "df_card = df[df.payment == \"credit card\"]\n",
    "df_cash = df[df.payment == \"cash\"]\n",
    "\n",
    "fig, ax = plt.subplots()\n",
    "ax.scatter(df_card.distance, df_card.total, c = \"r\")\n",
    "ax.scatter(df_cash.distance, df_cash.total, c = \"b\")\n",
    "ax.set_xlabel(\"Distance\")\n",
    "ax.set_ylabel(\"Total Fare\")\n",
    "ax.set_title(\"Total Fare increases with Distance\")\n",
    "ax.legend([\"Credit Card\", \"Cash\"])\n",
    "plt.show()"
   ]
  },
  {
   "cell_type": "markdown",
   "id": "d9652318",
   "metadata": {},
   "source": [
    "**Exercises:** \n",
    "1) Explore the relationship between the trip distance and its duration, but distinguish between the the different payment types.\\\n",
    "2) We can also distinguish between groups by point type. The default is filled round circles as above, but we could also change their size or their style. Using Matplotlib's [marker style guide](https://matplotlib.org/stable/api/markers_api.html#module-matplotlib.markers) as a starting point, create a scatter plot of distance versus fare, but use different markers to distinguish the two groups.\\\n",
    "3) Sometimes the default legend position can obscure some of our observations. Fortunately, this isn't the case here, but we need to know how to move the legend around the figure in case it is a problem. Using Matplotlib's [legend documentation](https://matplotlib.org/stable/tutorials/intermediate/legend_guide.html). as a starting point, move the legend from the bottom right corner of the axes using the **loc** argument, to a) the top left hand corner of the plot and b) on the right hand side of the plot (outside the axes). Also, add a useful title to the legend.\\\n",
    "4) What if we wanted to truncate our x and y-axes? Using Matplotlob's [axis documentation](https://matplotlib.org/stable/api/axes_api.html) as a starting point, truncate our x-axis to go from 0 to 5 and our y-axis from 30 to 175. \\\n",
    "5) From our original figure of distance and total fare, and the truncated figure we created in Exercise 4, we see very high fares for little or no distance travelled. In your own words, explain what might have caused these data points. **HINT:** Were these travellers prepared when their taxi arrived to collect them? We'll look more at unexpected values in a later Module."
   ]
  },
  {
   "cell_type": "markdown",
   "id": "d3ff29f7",
   "metadata": {},
   "source": [
    "We can see from our figure above that total fare increases with distance travelled in a pretty linear way. This isn't very surprising. But, there's more to this data than what this single figure can show. For example, what if we wanted to colour the points by the time of day? We could subset our data into fares during peak traffic hour (7.30am - 9.30am and 4.30pm to 6.30pm) and off-peak hours. Maybe we're interested in looking at this, as well as how the distance versus fare relationship differs by payment type. For this, we could plot two axes on the same figure. Let's do this now.\\\n",
    "\n",
    "First, we need to subset our data into peak and off-peak travel times. We'll use the pickup time variable for this."
   ]
  },
  {
   "cell_type": "code",
   "execution_count": 38,
   "id": "ce12bca9",
   "metadata": {},
   "outputs": [
    {
     "data": {
      "image/png": "[encoded data removed]",
      "text/plain": [
       "<Figure size 432x288 with 1 Axes>"
      ]
     },
     "metadata": {
      "needs_background": "light"
     },
     "output_type": "display_data"
    }
   ],
   "source": [
    "## Create datetime start and finish times for the two peak periods, \n",
    "# for more information about datetime.strptime, \n",
    "# see here: https://www.geeksforgeeks.org/python-datetime-strptime-function/.\n",
    "peakstart1 = datetime.strptime(\"07\" + \"30\" + \"00\", \"%H%M%S\").time() \n",
    "peakstart2 = datetime.strptime(\"16\" + \"30\" + \"00\", \"%H%M%S\").time()\n",
    "\n",
    "peakend1 = datetime.strptime(\"09\" + \"30\" + \"00\", \"%H%M%S\").time() \n",
    "peakend2 = datetime.strptime(\"18\" + \"30\" + \"00\", \"%H%M%S\").time() \n",
    "\n",
    "# Extract time of day from datetime pickup object (we don't want the date)\n",
    "df[\"pickup_time\"] = df[\"pickup\"].dt.time \n",
    "\n",
    "# Create a boolean variable called peak, which is True when pickup time is within peak hours, and False when it isn't.\n",
    "df[\"peak\"] = (((df.pickup_time >= peakstart1) & (df.pickup_time <= peakend1)) | # Peak time one, note the | symbol, this means 'or'. So we're searching for times in peak time one OR peak time two\n",
    "              ((df.pickup_time >= peakstart2) & (df.pickup_time <= peakend2))) # Peak time two\n",
    "\n",
    "df_peak = df[df.peak == True] # Subset of our dataset, with peak time pickups only\n",
    "df_offpeak = df[df.peak == False] # Subset of our dataset, with off-peak pickups only\n",
    "\n",
    "fig, ax = plt.subplots()\n",
    "ax.scatter(df_peak.distance, df_peak.total, c = \"r\")\n",
    "ax.scatter(df_offpeak.distance, df_offpeak.total, c = \"b\")\n",
    "ax.set_xlabel(\"Distance\")\n",
    "ax.set_ylabel(\"Total Fare\")\n",
    "ax.set_title(\"No Difference Between Peak and Off-Peak\")\n",
    "ax.legend([\"Peak\", \"Off-Peak\"])\n",
    "plt.show()\n"
   ]
  },
  {
   "cell_type": "markdown",
   "id": "77447cce",
   "metadata": {},
   "source": [
    "So, we don't really see a difference between distance travelled and total fare between peak and off-peak times after all. But, the off-peak points are obscuring most of the peak points, how do we deal with this? One way is to create seperate axes for the peak and offpeak scatterplots. This is easy with Pyplot, we just need to specify each plot's position in our figure."
   ]
  },
  {
   "cell_type": "code",
   "execution_count": 39,
   "id": "59720de7",
   "metadata": {},
   "outputs": [
    {
     "data": {
      "image/png": "[encoded data removed]",
      "text/plain": [
       "<Figure size 432x288 with 2 Axes>"
      ]
     },
     "metadata": {
      "needs_background": "light"
     },
     "output_type": "display_data"
    }
   ],
   "source": [
    "fig, axs = plt.subplots(1,2) # A figure with one row and two columns of axes\n",
    "\n",
    "# Our first plot, note Python indexes from 0\n",
    "axs[0].scatter(df_peak.distance, df_peak.total, c = \"r\")\n",
    "axs[0].set_xlabel(\"Distance\")\n",
    "axs[0].set_ylabel(\"Total Fare\")\n",
    "axs[0].set_title(\"Peak\")\n",
    "\n",
    "# Our second plot\n",
    "axs[1].scatter(df_offpeak.distance, df_offpeak.total, c = \"b\")\n",
    "axs[1].set_xlabel(\"Distance\")\n",
    "axs[1].set_ylabel(\"Total Fare\")\n",
    "axs[1].set_title(\"Off-Peak\")\n",
    "\n",
    "# Figure aesthetics\n",
    "plt.suptitle('Peak and Off-Peak are Similar', fontsize=16) # Main title\n",
    "plt.tight_layout() # Shortcut to arrange figures without overlap (try without this)\n",
    "plt.show() # Show plot command"
   ]
  },
  {
   "cell_type": "markdown",
   "id": "f5b121e1",
   "metadata": {},
   "source": [
    "**Exercise:** \n",
    "1) Change the positioning of the subplots above, so that instead of a single row and two columns, you have a single column and two rows. \\\n",
    "2) Create scatter plots to explore the relationship between distance travelled and total fare during the day (06.00am - 06.00pm) and during the night (06.00pm - 06.00am). Plot those in a figure with two rows, where the first row differentiates distanced travelled and total fare by peak and off-peak times."
   ]
  }
 ],
 "metadata": {
  "kernelspec": {
   "display_name": "Python 3 (ipykernel)",
   "language": "python",
   "name": "python3"
  },
  "language_info": {
   "codemirror_mode": {
    "name": "ipython",
    "version": 3
   },
   "file_extension": ".py",
   "mimetype": "text/x-python",
   "name": "python",
   "nbconvert_exporter": "python",
   "pygments_lexer": "ipython3",
   "version": "3.9.12"
  }
 },
 "nbformat": 4,
 "nbformat_minor": 5
}
