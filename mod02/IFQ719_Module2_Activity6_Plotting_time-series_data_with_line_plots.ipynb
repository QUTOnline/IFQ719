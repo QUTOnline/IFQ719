{
 "cells": [
  {
   "attachments": {},
   "cell_type": "markdown",
   "id": "9fd8d2b4",
   "metadata": {},
   "source": [
    "# Module 2, Activity 6: Time Series Plots"
   ]
  },
  {
   "attachments": {},
   "cell_type": "markdown",
   "id": "862c1a61",
   "metadata": {},
   "source": [
    "Time series are sequences of discrete, ordered time data. The simplest way to visualise them is with a line chart, where the x-axis is time, and the y-axis is the continuous variable being measured through time. We'll use the taxis dataset for these exercises.\n",
    "\n",
    "---\n",
    "\n",
    "## Step 1: Import Necessary Libraries"
   ]
  },
  {
   "cell_type": "code",
   "execution_count": null,
   "id": "94711c7b",
   "metadata": {},
   "outputs": [],
   "source": [
    "# import packages/libraries\n",
    "import seaborn as sns\n",
    "import matplotlib.pyplot as plt\n",
    "import matplotlib\n",
    "import pandas as pd\n",
    "import numpy as np\n",
    "import datetime as dt\n",
    "from datetime import datetime\n",
    "\n",
    "# load (and optionally format) dataset\n",
    "df = pd.read_csv(\"data/taxis.csv\")\n",
    "df[\"pickup\"] = pd.to_datetime(df[\"pickup\"], dayfirst=True)\n",
    "df[\"dropoff\"] = pd.to_datetime(df[\"dropoff\"], dayfirst=True)\n",
    "\n",
    "# Add a new column, giving the duration of each trip in minutes\n",
    "duration = df[\"dropoff\"]-df[\"pickup\"] #calculating trip duration as timedelta datatype\n",
    "df[\"duration_min\"] = duration.dt.total_seconds()/60 #converting to minutes and adding to df"
   ]
  },
  {
   "attachments": {},
   "cell_type": "markdown",
   "id": "35abbc38",
   "metadata": {},
   "source": [
    "---\n",
    "\n",
    "## Step 2: Aggregating Data Using `groupby()`\n",
    "Since our dataset contains many individual trips, let's group the data by pickup day and borough to make it more manageable.\n",
    "\n",
    "Reference **groupby** [command](https://pandas.pydata.org/docs/reference/api/pandas.DataFrame.groupby.html) for more informarion. "
   ]
  },
  {
   "cell_type": "code",
   "execution_count": null,
   "id": "80615574",
   "metadata": {},
   "outputs": [],
   "source": [
    "# Group data by pickup day and borough\n",
    "df_gb = df.groupby(by=[pd.Grouper(key=\"pickup\", freq=\"D\"), \"pickup_borough\"])\n",
    "\n",
    "# Sum only numerical columns\n",
    "df_gb_sum = df_gb.sum(numeric_only=True).reset_index()\n",
    "\n",
    "# Display the grouped dataset\n",
    "df_gb_sum\n"
   ]
  },
  {
   "attachments": {},
   "cell_type": "markdown",
   "id": "7518f22f",
   "metadata": {},
   "source": [
    "---\n",
    "## Exercise:\n",
    "1. Explain each line of code in the grouping step above.\n",
    "    * Use comments (#) to describe what each line does.\n",
    "2. Create a new grouped dataset that calculates the average (mean) values instead of the sum.\n",
    "    * Name this dataset `df_gb_ave.`\n",
    "    * Use `.mean(`) instead of `.sum()` in your code."
   ]
  },
  {
   "attachments": {},
   "cell_type": "markdown",
   "id": "a9c00013",
   "metadata": {},
   "source": [
    "Now let's start to plot. We'll use the Matplotlib command **plot**, but we could use other libraries like Seaborn. "
   ]
  },
  {
   "attachments": {},
   "cell_type": "markdown",
   "id": "366e7847",
   "metadata": {},
   "source": [
    "---\n",
    "### Visualizing the Data\n",
    "Now that we have summarised the data, let’s start plotting graphs using Matplotlib.\n",
    "\n",
    "Before we move on:\n",
    "\n",
    "* We'll use Matplotlib’s plot() function for basic graphs.\n",
    "* Later, we’ll try using Seaborn, which allows for easier, more stylish plots.\n",
    "---\n",
    "## Exercise:\n",
    "* Try plotting a simple line graph using Matplotlib.\n",
    "* Challenge: Convert the same graph to a Seaborn plot. \n",
    "\n",
    "Use [this page](http://seaborn.pydata.org/generated/seaborn.lineplot.html) as a starting reference."
   ]
  },
  {
   "cell_type": "code",
   "execution_count": null,
   "id": "c352d92c",
   "metadata": {},
   "outputs": [],
   "source": [
    "fig, ax = plt.subplots()  # Create a figure and axis\n",
    "ax.plot(df_gb_sum.pickup, df_gb_sum.fare)  # Create a line plot\n",
    "\n",
    "# Add labels to the axes\n",
    "ax.set_xlabel(\"Date\")  \n",
    "ax.set_ylabel(\"Total Fares\")  \n",
    "\n",
    "plt.show()  # Show the plot\n"
   ]
  },
  {
   "attachments": {},
   "cell_type": "markdown",
   "id": "6ce97a36",
   "metadata": {},
   "source": [
    "What's happening?\n",
    "\n",
    "* Since we grouped data by both date and pickup borough, Matplotlib is drawing one single line across all data points.\n",
    "* This combines fares from multiple boroughs, leading to overlapping lines or unclear trends.\n",
    "\n",
    "We need to subset our data first, then plot each line seperately. \n",
    "\n",
    "On a related note, let’s see what happens if we visualise something similar using Seaborn.\"\n",
    "\n"
   ]
  },
  {
   "cell_type": "code",
   "execution_count": null,
   "id": "64aebba9",
   "metadata": {},
   "outputs": [],
   "source": [
    "sns.lineplot(data=df_gb_sum,y='fare',x='pickup')\n",
    "# You'll notice it's all squished - we can fix that using seaborns set_theme function, but we'll come back to that later"
   ]
  },
  {
   "attachments": {},
   "cell_type": "markdown",
   "id": "7486a01a",
   "metadata": {},
   "source": [
    "Seaborn plots the mean fare across boroughs as a solid line, with the shading giving the standard error across boroughs for each date. Clever! However, the trade-off here is we have less direct control over our figure. \n",
    "\n",
    "---\n",
    "\n",
    "### Back to Matplotlib\n",
    "\n",
    "Study the follow code. Is there anything new we haven't looked at yet?"
   ]
  },
  {
   "cell_type": "code",
   "execution_count": null,
   "id": "54196df9",
   "metadata": {},
   "outputs": [],
   "source": [
    "# List of borough names\n",
    "label_names = [\"Queens\", \"Bronx\", \"Brooklyn\", \"Manhattan\"]\n",
    "\n",
    "# Selecting data for each borough\n",
    "df_gb_sum_0 = df_gb_sum[df_gb_sum.pickup_borough == label_names[0]]  # Queens\n",
    "df_gb_sum_1 = df_gb_sum[df_gb_sum.pickup_borough == label_names[1]]  # Bronx\n",
    "df_gb_sum_2 = df_gb_sum[df_gb_sum.pickup_borough == label_names[2]]  # Brooklyn\n",
    "df_gb_sum_3 = df_gb_sum[df_gb_sum.pickup_borough == label_names[3]]  # Manhattan\n",
    "\n",
    "# Create a figure and axis\n",
    "fig, ax = plt.subplots()\n",
    "\n",
    "# Plot data for each borough with different colors\n",
    "plt1, = ax.plot(df_gb_sum_0.pickup, df_gb_sum_0.fare, color=\"r\", label=label_names[0])  # Queens\n",
    "plt2, = ax.plot(df_gb_sum_1.pickup, df_gb_sum_1.fare, color=\"b\", label=label_names[1])  # Bronx\n",
    "plt3, = ax.plot(df_gb_sum_2.pickup, df_gb_sum_2.fare, color=\"g\", label=label_names[2])  # Brooklyn\n",
    "plt4, = ax.plot(df_gb_sum_3.pickup, df_gb_sum_3.fare, color=\"m\", label=label_names[3])  # Manhattan\n",
    "\n",
    "# Add title and labels\n",
    "ax.set_title(\"Total Fares by Borough\")\n",
    "ax.set_xlabel(\"Date\")\n",
    "ax.set_ylabel(\"Total Fares\")\n",
    "\n",
    "# Add a legend\n",
    "plt.legend([plt1, plt2, plt3, plt4], label_names, title=\"Pickup Borough\")\n",
    "\n",
    "# Show the chart\n",
    "plt.show()"
   ]
  },
  {
   "attachments": {},
   "cell_type": "markdown",
   "id": "a0bf4484",
   "metadata": {},
   "source": [
    "Let's pause and unpack some of the new syntax we've just introduced. \n",
    "\n",
    "We have one large dataset `(df_gb_sum)`, but we want to separate it by borough. Each line filters the dataset for one borough.\n",
    "* `df_gb_sum_0` contains only Queens trips.\n",
    "* `df_gb_sum_1` contains only Bronx trips.\n",
    "\n",
    "And so on.\n",
    "\n",
    "---\n",
    "\n",
    "### Understanding Why We Use `plt1, = ax.plot(...)`\n",
    "You'll notice that we're giving each `ax.plot()` an object name, followed by a comma.\n",
    "\n",
    "For example:\n",
    "\n",
    "`plt1, = ax.plot(df_gb_sum_0.pickup, df_gb_sum_0.fare, color=\"r\", label=label_names[0])`\n",
    "\n",
    "We do this so we can create a legend with all of the lines.\n",
    "\n",
    "But why the comma `(plt1, = ax.plot(...))`?\n",
    "\n",
    "**Matplotlib Returns a List**\n",
    "\n",
    "When we use `ax.plot()`, Matplotlib can plot multiple lines at once.\n",
    "\n",
    "For example, if we plot two datasets together:\n",
    "\n",
    "`ax.plot(df_gb_sum_0.pickup, df_gb_sum_0.fare, df_gb_sum_1.pickup, df_gb_sum_1.fare)`\n",
    "\n",
    "Matplotlib automatically returns multiple lines (one for each dataset).\n",
    "\n",
    "**Unpacking the First Line**\n",
    "Even when plotting just one line, Matplotlib still returns a list.\n",
    "\n",
    "So when we do:\n",
    "\n",
    "`plt1 = ax.plot(df_gb_sum_0.pickup, df_gb_sum_0.fare)`\n",
    "\n",
    "`plt1` is actually a list with one line inside it instead of just a single line.\n",
    "\n",
    "To avoid this, we use a comma to unpack only the first line:\n",
    "\n",
    "`plt1, = ax.plot(df_gb_sum_0.pickup, df_gb_sum_0.fare)`\n",
    "\n",
    "This way, `plt1` directly refers to the line object, making it easier to add it to the legend.\n",
    "\n",
    "---"
   ]
  },
  {
   "attachments": {},
   "cell_type": "markdown",
   "id": "39c82e03",
   "metadata": {},
   "source": [
    "### Figure size and legend position\n",
    "This looks okay, but the dates are squished together and the legend is obscuring some of the plot. We can fix this by changing the figure size (see [here](https://matplotlib.org/stable/api/_as_gen/matplotlib.pyplot.figure.html)) and the position of the legend (see [here](https://matplotlib.org/stable/api/_as_gen/matplotlib.pyplot.legend.html)). We'll experiment with the legend location in the next Module."
   ]
  },
  {
   "cell_type": "code",
   "execution_count": null,
   "id": "d6dd5c02",
   "metadata": {},
   "outputs": [],
   "source": [
    "#label_names = [\"Queens\", \"Bronx\", \"Brooklyn\", \"Manhattan\"]\n",
    "\n",
    "fig, ax = plt.subplots(figsize=(15, 5))\n",
    "plt1, = ax.plot(df_gb_sum_0.pickup, df_gb_sum_0.fare, c = \"r\", label = label_names[0])\n",
    "plt2, = ax.plot(df_gb_sum_1.pickup, df_gb_sum_1.fare, c = \"b\", label = label_names[1])\n",
    "plt3, = ax.plot(df_gb_sum_2.pickup, df_gb_sum_2.fare, c = \"g\", label = label_names[2])\n",
    "plt4, = ax.plot(df_gb_sum_3.pickup, df_gb_sum_3.fare, c = \"m\", label = label_names[3])\n",
    "ax.set_title(\"Total Fares by Borough\")\n",
    "ax.set_xlabel(\"Date\")\n",
    "ax.set_ylabel(\"Total Fares\")\n",
    "plt.legend([plt1, plt2, plt3, plt4], # line objects\n",
    "           label_names, # line labels\n",
    "           title = \"Pickup Borough\", loc = \"center left\", bbox_to_anchor = (1,0.5))\n",
    "plt.show()"
   ]
  },
  {
   "attachments": {},
   "cell_type": "markdown",
   "id": "23532e9f",
   "metadata": {},
   "source": [
    "---\n",
    "## Exercise:\n",
    "\n",
    "Remember, time series are sequences of discrete observations ordered by time. But, a line alone can give the impression that the data is continuous in time. Most of the time this is fine, but if we wanted to accentuate that each day is a discrete datapoint, we can add point markers for each day. We can do that by adding **marker = \".\"** to each **ax.plot** command. \n",
    "\n",
    "**Task:** Recreate the plot above, with markers for each day on each borough's line. More information about marker styles can be found [here](https://matplotlib.org/stable/api/markers_api.html#module-matplotlib.markers)."
   ]
  },
  {
   "cell_type": "code",
   "execution_count": null,
   "id": "06a020df-d192-4516-949b-03416b1c7aba",
   "metadata": {},
   "outputs": [],
   "source": []
  },
  {
   "cell_type": "code",
   "execution_count": null,
   "id": "dd7033d3-14c1-4ea9-b2fd-cc9ed0553c43",
   "metadata": {},
   "outputs": [],
   "source": []
  }
 ],
 "metadata": {
  "kernelspec": {
   "display_name": "Python 3 (ipykernel)",
   "language": "python",
   "name": "python3"
  },
  "language_info": {
   "codemirror_mode": {
    "name": "ipython",
    "version": 3
   },
   "file_extension": ".py",
   "mimetype": "text/x-python",
   "name": "python",
   "nbconvert_exporter": "python",
   "pygments_lexer": "ipython3",
   "version": "3.11.11"
  }
 },
 "nbformat": 4,
 "nbformat_minor": 5
}
